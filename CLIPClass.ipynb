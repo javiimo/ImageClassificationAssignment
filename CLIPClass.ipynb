{
 "cells": [
  {
   "cell_type": "code",
   "execution_count": 54,
   "metadata": {
    "colab": {
     "base_uri": "https://localhost:8080/"
    },
    "id": "OIg1G6AD6fyQ",
    "outputId": "ec7ad4fe-ae62-4ba5-fac5-d737547a332b"
   },
   "outputs": [
    {
     "name": "stdout",
     "output_type": "stream",
     "text": [
      "Requirement already satisfied: ftfy in /opt/conda/lib/python3.10/site-packages (6.2.0)\n",
      "Requirement already satisfied: regex in /opt/conda/lib/python3.10/site-packages (2023.12.25)\n",
      "Requirement already satisfied: tqdm in /opt/conda/lib/python3.10/site-packages (4.66.2)\n",
      "Requirement already satisfied: wcwidth<0.3.0,>=0.2.12 in /opt/conda/lib/python3.10/site-packages (from ftfy) (0.2.13)\n",
      "Collecting git+https://github.com/openai/CLIP.git\n",
      "  Cloning https://github.com/openai/CLIP.git to /tmp/pip-req-build-frer0j1k\n",
      "  Running command git clone --filter=blob:none --quiet https://github.com/openai/CLIP.git /tmp/pip-req-build-frer0j1k\n",
      "  Resolved https://github.com/openai/CLIP.git to commit a1d071733d7111c9c014f024669f959182114e33\n",
      "  Preparing metadata (setup.py) ... \u001b[?25ldone\n",
      "\u001b[?25hRequirement already satisfied: ftfy in /opt/conda/lib/python3.10/site-packages (from clip==1.0) (6.2.0)\n",
      "Requirement already satisfied: regex in /opt/conda/lib/python3.10/site-packages (from clip==1.0) (2023.12.25)\n",
      "Requirement already satisfied: tqdm in /opt/conda/lib/python3.10/site-packages (from clip==1.0) (4.66.2)\n",
      "Requirement already satisfied: torch in /opt/conda/lib/python3.10/site-packages (from clip==1.0) (2.0.0.post101)\n",
      "Requirement already satisfied: torchvision in /opt/conda/lib/python3.10/site-packages (from clip==1.0) (0.15.2a0+072ec57)\n",
      "Requirement already satisfied: wcwidth<0.3.0,>=0.2.12 in /opt/conda/lib/python3.10/site-packages (from ftfy->clip==1.0) (0.2.13)\n",
      "Requirement already satisfied: filelock in /opt/conda/lib/python3.10/site-packages (from torch->clip==1.0) (3.13.4)\n",
      "Requirement already satisfied: typing-extensions in /opt/conda/lib/python3.10/site-packages (from torch->clip==1.0) (4.5.0)\n",
      "Requirement already satisfied: sympy in /opt/conda/lib/python3.10/site-packages (from torch->clip==1.0) (1.12)\n",
      "Requirement already satisfied: networkx in /opt/conda/lib/python3.10/site-packages (from torch->clip==1.0) (3.3)\n",
      "Requirement already satisfied: jinja2 in /opt/conda/lib/python3.10/site-packages (from torch->clip==1.0) (3.1.3)\n",
      "Requirement already satisfied: numpy in /opt/conda/lib/python3.10/site-packages (from torchvision->clip==1.0) (1.26.4)\n",
      "Requirement already satisfied: requests in /opt/conda/lib/python3.10/site-packages (from torchvision->clip==1.0) (2.31.0)\n",
      "Requirement already satisfied: pillow!=8.3.*,>=5.3.0 in /opt/conda/lib/python3.10/site-packages (from torchvision->clip==1.0) (9.5.0)\n",
      "Requirement already satisfied: MarkupSafe>=2.0 in /opt/conda/lib/python3.10/site-packages (from jinja2->torch->clip==1.0) (2.1.5)\n",
      "Requirement already satisfied: charset-normalizer<4,>=2 in /opt/conda/lib/python3.10/site-packages (from requests->torchvision->clip==1.0) (3.3.2)\n",
      "Requirement already satisfied: idna<4,>=2.5 in /opt/conda/lib/python3.10/site-packages (from requests->torchvision->clip==1.0) (3.6)\n",
      "Requirement already satisfied: urllib3<3,>=1.21.1 in /opt/conda/lib/python3.10/site-packages (from requests->torchvision->clip==1.0) (1.26.18)\n",
      "Requirement already satisfied: certifi>=2017.4.17 in /opt/conda/lib/python3.10/site-packages (from requests->torchvision->clip==1.0) (2024.2.2)\n",
      "Requirement already satisfied: mpmath>=0.19 in /opt/conda/lib/python3.10/site-packages (from sympy->torch->clip==1.0) (1.3.0)\n",
      "Requirement already satisfied: datasets in /opt/conda/lib/python3.10/site-packages (2.18.0)\n",
      "Requirement already satisfied: transformers in /opt/conda/lib/python3.10/site-packages (4.31.0)\n",
      "Requirement already satisfied: filelock in /opt/conda/lib/python3.10/site-packages (from datasets) (3.13.4)\n",
      "Requirement already satisfied: numpy>=1.17 in /opt/conda/lib/python3.10/site-packages (from datasets) (1.26.4)\n",
      "Requirement already satisfied: pyarrow>=12.0.0 in /opt/conda/lib/python3.10/site-packages (from datasets) (12.0.1)\n",
      "Requirement already satisfied: pyarrow-hotfix in /opt/conda/lib/python3.10/site-packages (from datasets) (0.6)\n",
      "Requirement already satisfied: dill<0.3.9,>=0.3.0 in /opt/conda/lib/python3.10/site-packages (from datasets) (0.3.8)\n",
      "Requirement already satisfied: pandas in /opt/conda/lib/python3.10/site-packages (from datasets) (2.1.4)\n",
      "Requirement already satisfied: requests>=2.19.0 in /opt/conda/lib/python3.10/site-packages (from datasets) (2.31.0)\n",
      "Requirement already satisfied: tqdm>=4.62.1 in /opt/conda/lib/python3.10/site-packages (from datasets) (4.66.2)\n",
      "Requirement already satisfied: xxhash in /opt/conda/lib/python3.10/site-packages (from datasets) (3.4.1)\n",
      "Requirement already satisfied: multiprocess in /opt/conda/lib/python3.10/site-packages (from datasets) (0.70.16)\n",
      "Requirement already satisfied: fsspec<=2024.2.0,>=2023.1.0 in /opt/conda/lib/python3.10/site-packages (from fsspec[http]<=2024.2.0,>=2023.1.0->datasets) (2023.6.0)\n",
      "Requirement already satisfied: aiohttp in /opt/conda/lib/python3.10/site-packages (from datasets) (3.9.3)\n",
      "Requirement already satisfied: huggingface-hub>=0.19.4 in /opt/conda/lib/python3.10/site-packages (from datasets) (0.22.2)\n",
      "Requirement already satisfied: packaging in /opt/conda/lib/python3.10/site-packages (from datasets) (23.2)\n",
      "Requirement already satisfied: pyyaml>=5.1 in /opt/conda/lib/python3.10/site-packages (from datasets) (6.0.1)\n",
      "Requirement already satisfied: regex!=2019.12.17 in /opt/conda/lib/python3.10/site-packages (from transformers) (2023.12.25)\n",
      "Requirement already satisfied: tokenizers!=0.11.3,<0.14,>=0.11.1 in /opt/conda/lib/python3.10/site-packages (from transformers) (0.13.3)\n",
      "Requirement already satisfied: safetensors>=0.3.1 in /opt/conda/lib/python3.10/site-packages (from transformers) (0.4.2)\n",
      "Requirement already satisfied: aiosignal>=1.1.2 in /opt/conda/lib/python3.10/site-packages (from aiohttp->datasets) (1.3.1)\n",
      "Requirement already satisfied: attrs>=17.3.0 in /opt/conda/lib/python3.10/site-packages (from aiohttp->datasets) (23.2.0)\n",
      "Requirement already satisfied: frozenlist>=1.1.1 in /opt/conda/lib/python3.10/site-packages (from aiohttp->datasets) (1.4.1)\n",
      "Requirement already satisfied: multidict<7.0,>=4.5 in /opt/conda/lib/python3.10/site-packages (from aiohttp->datasets) (6.0.5)\n",
      "Requirement already satisfied: yarl<2.0,>=1.0 in /opt/conda/lib/python3.10/site-packages (from aiohttp->datasets) (1.9.4)\n",
      "Requirement already satisfied: async-timeout<5.0,>=4.0 in /opt/conda/lib/python3.10/site-packages (from aiohttp->datasets) (4.0.3)\n",
      "Requirement already satisfied: typing-extensions>=3.7.4.3 in /opt/conda/lib/python3.10/site-packages (from huggingface-hub>=0.19.4->datasets) (4.5.0)\n",
      "Requirement already satisfied: charset-normalizer<4,>=2 in /opt/conda/lib/python3.10/site-packages (from requests>=2.19.0->datasets) (3.3.2)\n",
      "Requirement already satisfied: idna<4,>=2.5 in /opt/conda/lib/python3.10/site-packages (from requests>=2.19.0->datasets) (3.6)\n",
      "Requirement already satisfied: urllib3<3,>=1.21.1 in /opt/conda/lib/python3.10/site-packages (from requests>=2.19.0->datasets) (1.26.18)\n",
      "Requirement already satisfied: certifi>=2017.4.17 in /opt/conda/lib/python3.10/site-packages (from requests>=2.19.0->datasets) (2024.2.2)\n",
      "Requirement already satisfied: python-dateutil>=2.8.2 in /opt/conda/lib/python3.10/site-packages (from pandas->datasets) (2.9.0)\n",
      "Requirement already satisfied: pytz>=2020.1 in /opt/conda/lib/python3.10/site-packages (from pandas->datasets) (2023.3)\n",
      "Requirement already satisfied: tzdata>=2022.1 in /opt/conda/lib/python3.10/site-packages (from pandas->datasets) (2024.1)\n",
      "Requirement already satisfied: six>=1.5 in /opt/conda/lib/python3.10/site-packages (from python-dateutil>=2.8.2->pandas->datasets) (1.16.0)\n"
     ]
    }
   ],
   "source": [
    "! pip install ftfy regex tqdm\n",
    "! pip install git+https://github.com/openai/CLIP.git\n",
    "! pip install datasets transformers\n",
    "\n",
    "# Used for CLIP:\n",
    "import clip\n",
    "import torch\n",
    "import torchvision\n",
    "import torchvision.transforms as transforms\n",
    "import torch.optim as optim\n",
    "import copy\n",
    "import numpy as np\n",
    "\n",
    "#Used for testing:\n",
    "import boto3\n",
    "from pathlib import Path\n",
    "from torch.utils.data import DataLoader, Dataset\n",
    "from torchvision import transforms\n",
    "from tqdm import tqdm\n",
    "from PIL import Image\n",
    "from dataclasses import dataclass, asdict\n",
    "from typing import List, Dict\n",
    "import os\n",
    "import json\n",
    "from torch.utils.data import Subset"
   ]
  },
  {
   "cell_type": "markdown",
   "metadata": {},
   "source": [
    "# CLIPModel Class Method Explanations\n",
    "\n",
    "## Constructor\n",
    "- **`__init__(self, model_name='ViT-B/32', device=None)`**\n",
    "  - Initializes the model with a specified model name and device. Defaults to using CUDA if available. It sets up the optimizer and default parameters for the model. And casts it to float 32 to use ADAM. Also sets a `changeseed` to be able to have different random generations in a loop for Entropy Boosting.\n",
    "\n",
    "## Optimizer Methods\n",
    "- **`use_ADAM(self)`**\n",
    "  - Changes the optimizer of the model to ADAM.\n",
    "- **`use_SGD(self)`**\n",
    "  - Switches the optimizer to SGD.\n",
    "- **`convert_model_parameters_to_float32(self, model)`**\n",
    "    - This is for ADAM to work. Converts all model parameters to float32 data type.\n",
    "- **`grad_descent_step(self, loss)`**\n",
    "    - Performs a single gradient descent step using the computed loss, updating the model parameters accordingly. This is what modifies the clip model stored in the object.\n",
    "\n",
    "## Gradient Handling\n",
    "- **`require_CLIP_gradients(self, state=True)`**\n",
    "  - Enables or disables the calculation of gradients for model parameters based on the specified state.\n",
    "\n",
    "## Data Handling\n",
    "- **`load_data(self)`**\n",
    "  - This is just to have some data easy to access to test the methods on some image. Loads the CIFAR100 dataset which is useful for testing or validating the model performance on image data.\n",
    " \n",
    "## Tokenization of labels\n",
    "- **`tokenize_labels(self, classes)`**\n",
    "    - Converts a list of class labels into text tokens using CLIP's tokenizer and encodes them into text features. This is used for matching text descriptions with images. For now this is just used with a photo of a {class} and then stored as an attribute so that we can reuse it for every method.\n",
    " \n",
    "## Transformations\n",
    "- **`augment_image(self, image, num_augmentations=100, transformations=None)`**\n",
    "  - Applies specified transformations to an image (or a random transformation if none given) to generate multiple augmented versions.\n",
    "\n",
    "## Feature and Probability Computations\n",
    "- **`cos_sim(self, image_features, text_features)`**\n",
    "  - Calculates the cosine similarity between image and text features.\n",
    "- **`logits(self, image_features, text_features)`**\n",
    "  - Computes the logits by applying a scale factor (temperature already learned by CLIP) to the cosine similarities.\n",
    "- **`class_probabilities(self, image_features, text_features)`**\n",
    "  - Converts logits to class probabilities using the softmax function.\n",
    "\n",
    "## Entropy and Loss Calculations\n",
    "- **`compute_entropy(self, x)`**\n",
    "  - Computes the Shannon entropy of a probability distribution, measuring uncertainty.\n",
    "- **`marginal_entropy(self, logits)`**\n",
    "    - Calculates the marginal entropy of the logits, which quantifies the uncertainty or spread of the predicted probabilities across different classes.\n",
    "- **`entropy_loss_MEMO(self, batch_features, text_features=None)`**\n",
    "  - Calculates the entropy loss for the MEMO strategy using marginal entropy.\n",
    "- **`entropy_loss_TPT(self, batch_features, text_features=None)`**\n",
    "    - Calculates and returns the entropy loss for TPT.\n",
    "\n",
    "## Predictions with the CLIP model out of the box\n",
    "- **`forward(self, image)`**\n",
    "    - Processes an image through the model, encoding it into image features, normalizing these features, and then computing the class probabilities.\n",
    "- **`predict(self, image)`**\n",
    "    - Completes the prediction process including preprocessing the image, computing probabilities, and determining the most probable class along with its entropy. This is what you can use to compute CLIP out of the box predictions.\n",
    "\n",
    "## Methods used to get predictions\n",
    "- **`MEMO(self, image, num_augmentations=100)`**\n",
    "  - Implements MEMO strategy by optimizing model parameters to minimize entropy across predictions.\n",
    "- **`TPT(self, image, num_augmentations=100)`**\n",
    "    - Applies the TPT strategy, focusing on refining the model's ability to predict with high certainty by averaging probabilities across \"good\" augmentations.\n",
    "- **`entropyboosting(self, image, num_augmentations=100, num_candidates=10, top_aug_num=5)`**\n",
    "  - Uses \"Entropy Boosting\" to enhance model confidence by iterating over augmentation cycles to stabilize and improve prediction certainty.\n",
    "\n",
    "## Extra for TPT\n",
    "- **`confidence_selection(self, probs_matrix, percentile=0.8)`**\n",
    "    - Selects predictions with entropy below a specified percentile, filtering out less confident (high entropy) predictions to focus on more certain outcomes.\n",
    "\n",
    "# Extra for Entropy Boosting\n",
    "- **`pick_candidates(self, tensor, classifier, top_num)`**\n",
    "    - Selects top candidates based on a classifier score.\n",
    "- **`expand_tensor(self, tensor, top_indices, n)`**\n",
    "    - Expands a smaller tensor into a larger one based on specified indices.\n",
    "- **`generate_augmentations_similarities(self, image, image_features, txt_candidates, num_augmentations, top_aug_num)`**\n",
    "    - Generates and evaluates the similarity of augmented images to text candidates, aiding in the identification of most relevant image features.\n",
    "- **`boost_augmentations(self, image, image_features, prob, num_augmentations, num_candidates, top_aug_num)`**\n",
    "    - Boosts the confidence in model predictions by blending probabilities from original and augmented images, focusing on candidates with high initial probabilities.\n",
    "\n",
    "\n"
   ]
  },
  {
   "cell_type": "markdown",
   "metadata": {},
   "source": [
    "# How to split the CLass:\n",
    "We have a parent class CLIP and 3 children (for now) which are MEMO, TPT and EB (Entropy Boost). Somehow, those children should be able to interact and use the same CLIP object )(access its attributes, methods as if they where the same object) without creating a copy of it. Not sure how to do it, but ideally it would work like one single class but splitting the code accross multiple classes so that we can structure the code better.\n",
    "## Attributes:\n",
    "- device (CLIP)\n",
    "- model (CLIP)\n",
    "- preprocess (CLIP)\n",
    "- optimizer (CLIP)\n",
    "- text_features (CLIP)\n",
    "- requiring_grads (CLIP)\n",
    "- logit_scale (CLIP)\n",
    "- changeseed \n",
    "\n",
    "## Methods:\n",
    "- __init__ (CLIP has exactly the one written)\n",
    "- use_ADAM (CLIP)\n",
    "- use_SGD (CLIP)\n",
    "- require_CLIP_gradients (CLIP)\n",
    "- convert_model_parameters_to_float32 (CLIP)\n",
    "- load_data (this one does not matter, won't be in the final version)\n",
    "- tokenize_labels (CLIP)\n",
    "- augment_image (CLIP)\n",
    "- cos_sim (CLIP)\n",
    "- logits (CLIP)\n",
    "- class_probabilities (CLIP)\n",
    "- marginal_entropy (CLIP)\n",
    "- compute_entropy (CLIP)\n",
    "- confidence_selection (TPT)\n",
    "- entropy_loss_MEMO (MEMO)\n",
    "- entropy_loss_TPT (TPT)\n",
    "- forward (CLIP)\n",
    "- predict (CLIP)\n",
    "- grad_descent_step (CLIP)\n",
    "- MEMO (MEMO)\n",
    "- TPT (TPT)\n",
    "- pick_candidates (EB)\n",
    "- expand_tensor (EB)\n",
    "- generate_augmentations_similarities (EB)\n",
    "- boost_augmentations (EB)\n",
    "- entropyboosting (EB)\n"
   ]
  },
  {
   "cell_type": "code",
   "execution_count": 55,
   "metadata": {
    "colab": {
     "base_uri": "https://localhost:8080/"
    },
    "id": "6XGJSO0FnKTp",
    "outputId": "5f97a486-48f4-48ca-e713-83c576ebcd03"
   },
   "outputs": [],
   "source": [
    "class CLIPModel:\n",
    "\n",
    "    def __init__(self, model_name='ViT-B/32', device=None):\n",
    "        self.device = device if device else \"cuda\" if torch.cuda.is_available() else \"cpu\"\n",
    "        self.model, self.preprocess = clip.load(model_name, self.device)\n",
    "        self.model = self.convert_model_parameters_to_float32(self.model)\n",
    "        self.optimizer = optim.SGD(self.model.parameters(), lr=1e-5, momentum=0.9)\n",
    "        self.text_features = None\n",
    "        self.requiring_grads = None\n",
    "        self.logit_scale = self.model.logit_scale #temperature parameter learned by CLIP\n",
    "        self.changeseed = 0 #This is to be able to do diverse random transforms but replicable\n",
    "    \n",
    "    def use_ADAM(self):\n",
    "        self.optimizer = optim.Adam(self.model.parameters(), lr=1e-5)\n",
    "\n",
    "    def use_SGD(self):\n",
    "        self.optimizer = optim.SGD(self.model.parameters(), lr=1e-5, momentum=0.9)\n",
    "\n",
    "    def require_CLIP_gradients(self, state = True):\n",
    "        if self.requiring_grads is None or state != self.requiring_grads: #don't change if the state is already OK\n",
    "            for param in self.model.parameters():\n",
    "                param.requires_grad = state\n",
    "            self.requiring_grads = state\n",
    "\n",
    "    def convert_model_parameters_to_float32(self, model):\n",
    "        for param in model.parameters():\n",
    "            param.data = param.data.to(torch.float32)\n",
    "        return model\n",
    "\n",
    "    def load_data(self):\n",
    "        cifar100 = torchvision.datasets.CIFAR100(root='./data', download=True, train=False)\n",
    "        return cifar100\n",
    "\n",
    "    #This are heuristic labels\n",
    "    def tokenize_labels(self, classes):\n",
    "        text_inputs = torch.cat([clip.tokenize(f\"a photo of a {c}\") for c in classes]).to(self.device)\n",
    "        with torch.no_grad():\n",
    "            self.text_features = self.model.encode_text(text_inputs)\n",
    "            self.text_features /= self.text_features.norm(dim=-1, p=2, keepdim=True)\n",
    "\n",
    "    def augment_image(self, image, num_augmentations=100, transformations=None):\n",
    "        if transformations==None:\n",
    "            torch.manual_seed(33)#Set a seed for reproducibility of the random augmentations\n",
    "            augmentations = transforms.Compose([\n",
    "                transforms.RandomHorizontalFlip(p=0.5),\n",
    "                transforms.RandomVerticalFlip(p=0.5),\n",
    "                transforms.RandomRotation(degrees=30),\n",
    "                transforms.ColorJitter(brightness=0.2, contrast=0.2, saturation=0.2, hue=0.2),\n",
    "                transforms.RandomResizedCrop(size=224, scale=(0.08, 1.0), ratio=(0.75, 1.333)),\n",
    "            ])\n",
    "        augmented_images = [self.preprocess(image).unsqueeze(0).to(self.device)] #Add the original image to the batch of augmentations\n",
    "        for _ in range(num_augmentations):\n",
    "            augmented_images.append(self.preprocess(augmentations(image)).unsqueeze(0).to(self.device))\n",
    "        batch = torch.vstack(augmented_images)\n",
    "        return batch #(num_augumentations + 1, 3, 224, 224)\n",
    "\n",
    "    def cos_sim(self, image_features, text_features):\n",
    "        return  image_features @ text_features.T\n",
    "\n",
    "    def logits(self, image_features, text_features):\n",
    "        logit_scale = self.logit_scale.exp()\n",
    "        return logit_scale * self.cos_sim(image_features, text_features)\n",
    "\n",
    "    def class_probabilities(self, image_features, text_features):\n",
    "        #Compute cosine similarities\n",
    "        return  self.logits(image_features, text_features).softmax(dim=-1)\n",
    "\n",
    "    def marginal_entropy(self, logits):\n",
    "        z = logits - logits.logsumexp(dim = -1, keepdim=True) # compute z_ij\n",
    "        marginal_logp = z.logsumexp(dim=0) - np.log(z.shape[0])   # compute marginal log probabilities\n",
    "\n",
    "        min_real = torch.finfo(marginal_logp.dtype).min # for numerical stability,\n",
    "        # the smallest representable number given the dtype of logits.\n",
    "        avg_logits = torch.clamp(marginal_logp, min = min_real)  # put a threshold to avoid underflow\n",
    "\n",
    "        return -(avg_logits * torch.exp(avg_logits)).sum(dim=-1)\n",
    "\n",
    "    def compute_entropy(self, x): #Shanon entropy in bits\n",
    "        #This computes the Shanon entropy\n",
    "        log_x = torch.log2(x.clamp_min(1e-20))\n",
    "        entropy = -torch.sum(x * log_x)\n",
    "        return entropy\n",
    "\n",
    "    def confidence_selection(self, probs_matrix, percentile=0.8):\n",
    "        # Compute entropies for each row in the probability matrix\n",
    "        entropies = torch.tensor([self.compute_entropy(row) for row in probs_matrix])\n",
    "\n",
    "        # Find the threshold for the desired percentile\n",
    "        threshold = torch.quantile(entropies, percentile, interpolation = 'linear')\n",
    "\n",
    "        # Create a boolean mask where entropies below the threshold are selected\n",
    "        boolean_mask = entropies < threshold\n",
    "\n",
    "        # Assuming similarities is intended to be probs_matrix, return filtered matrix\n",
    "        return probs_matrix[boolean_mask]\n",
    "\n",
    "    def entropy_loss_MEMO(self, batch_features, text_features = None):\n",
    "        if text_features is None:\n",
    "            text_features = self.text_features\n",
    "        #Logits (unnormalized probabilities)\n",
    "        logits = self.logits(batch_features, text_features)\n",
    "        # Compute the entropy of every text caption accross all augmentations\n",
    "        marginal_entropy = self.marginal_entropy(logits)\n",
    "        return marginal_entropy\n",
    "\n",
    "    def entropy_loss_TPT(self, batch_features, text_features = None):\n",
    "        if text_features is None:\n",
    "            text_features = self.text_features\n",
    "        probs_matrix = self.class_probabilities(batch_features, text_features)\n",
    "        # Confidence selection for the augmented views:\n",
    "        probs_matrix = self.confidence_selection(probs_matrix)\n",
    "        # Average the caption probabilities across all augmentations\n",
    "        avg_probs = torch.tensor([row.mean() for row in probs_matrix.T])\n",
    "        # Compute the entropy of the averaged probability distribution\n",
    "        return self.compute_entropy(avg_probs), avg_probs\n",
    "\n",
    "    def forward(self, image):\n",
    "        image_features = self.model.encode_image(image)\n",
    "        norms = image_features.norm(dim=-1, p=2,  keepdim=True)\n",
    "        if (norms == 0).any():\n",
    "            print(\"Zero norm found in image features\")\n",
    "        image_features = image_features / norms.clamp_min(1e-10)\n",
    "        return self.class_probabilities(image_features, self.text_features)\n",
    "\n",
    "    def predict(self, image):\n",
    "        self.model.eval()\n",
    "        image = self.preprocess(image).unsqueeze(0).to(self.device)\n",
    "        with torch.no_grad():\n",
    "            probs = self.forward(image)\n",
    "\n",
    "        prediction = torch.argmax(probs).item()\n",
    "        entropy = float(self.compute_entropy(probs))\n",
    "        return prediction, probs.squeeze(), entropy\n",
    "\n",
    "    def grad_descent_step(self, loss):\n",
    "        self.optimizer.zero_grad()\n",
    "        loss.backward()\n",
    "        self.optimizer.step()\n",
    "\n",
    "    def MEMO(self, image, num_augmentations=100):\n",
    "        # Save original parameters\n",
    "        original_params = {name: param.clone() for name, param in self.model.named_parameters()}\n",
    "\n",
    "        # Require gradients to update the CLIP parameters\n",
    "        self.require_CLIP_gradients(state = True)\n",
    "\n",
    "        try:\n",
    "            self.model.train()\n",
    "            batch = self.augment_image(image, num_augmentations)\n",
    "            batch_features = self.model.encode_image(batch)\n",
    "            norms = batch_features.norm(dim=-1, p=2, keepdim=True)\n",
    "            if (norms == 0).any():\n",
    "                print(\"Zero norm found in image features\")\n",
    "            batch_features = batch_features / norms.clamp_min(1e-10)\n",
    "            loss = self.entropy_loss_MEMO(batch_features)\n",
    "            self.grad_descent_step(loss)\n",
    "\n",
    "            if any(torch.isnan(param).any() for param in self.model.parameters()):\n",
    "                print(\"nan values detected in model parameters after updating\")\n",
    "            # Predict using the updated model\n",
    "            prediction, probs, entropy = self.predict(image)\n",
    "        finally:\n",
    "            # Restore original parameters\n",
    "            with torch.no_grad():\n",
    "                for name, param in self.model.named_parameters():\n",
    "                    param.copy_(original_params[name])\n",
    "        return prediction, probs.squeeze(), entropy\n",
    "\n",
    "    def TPT(self, image, num_augmentations=100):\n",
    "        self.model.eval()\n",
    "        self.require_CLIP_gradients(False)\n",
    "        batch = self.augment_image(image, num_augmentations)\n",
    "        batch_features = self.model.encode_image(batch)\n",
    "        norms = batch_features.norm(dim=-1, p=2, keepdim=True)\n",
    "        if (norms == 0).any():\n",
    "            print(\"Zero norm found in image features\")\n",
    "        batch_features = batch_features / norms.clamp_min(1e-10)\n",
    "\n",
    "        entropy, avg_probs = self.entropy_loss_TPT(batch_features)\n",
    "        prediction = torch.argmax(avg_probs).item()\n",
    "        return prediction, avg_probs.squeeze(), float(entropy)\n",
    "\n",
    "    #Implementing the Entropy Boost stuff:\n",
    "    def pick_candidates(self, tensor, classifier, top_num):\n",
    "        # to select a subset of \"candidates\" from a given tensor based on scores provided by a classifier\n",
    "        _, top_indices = torch.topk(classifier, top_num)\n",
    "        candidates = torch.squeeze(tensor[top_indices])\n",
    "        \n",
    "        return candidates, top_indices\n",
    "\n",
    "    def expand_tensor(self, tensor, top_indices, n):\n",
    "    \n",
    "        exp_tensor = torch.zeros(n).to(self.device)\n",
    "        for i in range(top_indices.shape[0]): exp_tensor[top_indices[i]] = tensor[i]\n",
    "    \n",
    "        return exp_tensor\n",
    "\n",
    "    def generate_augmentations_similarities(self, image, image_features, txt_candidates, num_augmentations, top_aug_num):\n",
    "        # augment\n",
    "        torch.manual_seed(33+self.changeseed)\n",
    "        augmentations = transforms.Compose([\n",
    "                                transforms.RandomResizedCrop(size=224, scale=(0.08, 1.0), ratio=(0.75, 1.333)),\n",
    "                                ])\n",
    "        batch = self.augment_image(image, num_augmentations)\n",
    "        batch_features = self.model.encode_image(batch)\n",
    "        norms = batch_features.norm(dim=-1, p=2, keepdim=True)\n",
    "        if (norms == 0).any():\n",
    "            print(\"Zero norm found in image features\")\n",
    "        batch_features = batch_features / norms.clamp_min(1e-10)\n",
    "\n",
    "    \n",
    "        # pick the ones closest to the original image\n",
    "        probs_matrix = self.class_probabilities(image_features, batch_features).squeeze()\n",
    "        candidates_features, top_indices_aug = self.pick_candidates(batch_features, probs_matrix, top_num = top_aug_num)\n",
    "\n",
    "        candidates_probs_matrix = self.class_probabilities(candidates_features, txt_candidates).squeeze()\n",
    "    \n",
    "        del batch # avoid Cuda to run out of memory?\n",
    "        return torch.mean(candidates_probs_matrix, dim=0)\n",
    "    \n",
    "    def boost_augmentations(self, image, image_features, prob, num_augmentations, num_candidates, top_aug_num):\n",
    "    \n",
    "        _, top_indices = torch.topk(prob, num_candidates)\n",
    "        text_candidates = self.text_features[top_indices]\n",
    "    \n",
    "        n = prob.shape[0]\n",
    "\n",
    "        #Candidates probabilities in the original image\n",
    "        candidates_prob_og = self.class_probabilities(image_features, text_candidates).squeeze()\n",
    "        candidates_prob_og = self.expand_tensor(candidates_prob_og, top_indices, n)\n",
    "\n",
    "        #Candidates averaged probability in the augmentations\n",
    "        candidates_avg_prob = self.generate_augmentations_similarities(image, image_features, text_candidates, num_augmentations, top_aug_num)\n",
    "        candidates_avg_prob = self.expand_tensor(candidates_avg_prob, top_indices, n)\n",
    "    \n",
    "        return candidates_prob_og, candidates_avg_prob\n",
    "\n",
    "    def entropyboosting(self, image, num_augmentations = 100, num_candidates = 10, top_aug_num = 5):\n",
    "        self.model.eval()\n",
    "        self.require_CLIP_gradients(False)\n",
    "        if num_candidates <= 1:\n",
    "            print(\"If num_candidates=0 this is just CLIP\")\n",
    "            return\n",
    "        image_prepro = self.preprocess(image).unsqueeze(0).to(self.device)\n",
    "        image_features = self.model.encode_image(image_prepro)\n",
    "        norms = image_features.norm(dim=-1, p=2,  keepdim=True)\n",
    "        image_features = image_features / norms.clamp_min(1e-10)\n",
    "\n",
    "        #Compute out of the box CLIP probability distribution and prediction\n",
    "        clip_probs = self.class_probabilities(image_features, self.text_features).squeeze()\n",
    "        clip_prediction = torch.argmax(clip_probs).item()\n",
    "\n",
    "        phi = 2 / (1 + np.sqrt(5)) # Aura section - math fetish but it seems to work so...\n",
    "        \n",
    "        # Defining loop variables\n",
    "        aug_prob = None #Should this be an input of the method??\n",
    "        output_prob = clip_probs.clone() #Is this necessary??\n",
    "        max_iter = 4\n",
    "        iter = 0\n",
    "        while iter < max_iter:\n",
    "            self.changeseed = self.changeseed + 1 #To make different random transformations at every iter but replicable\n",
    "            candidates_prob_og, candidates_avg_prob = self.boost_augmentations(image, image_features, output_prob, num_augmentations, num_candidates, top_aug_num)\n",
    "            \n",
    "            clip_probs = phi * clip_probs + (1 - phi) * candidates_prob_og #Why are we doing this to the clip probs?\n",
    "            \n",
    "            if aug_prob == None: aug_prob = candidates_avg_prob\n",
    "            else:                aug_prob = 0.5 * aug_prob + 0.5 * candidates_avg_prob\n",
    "            \n",
    "            output_prob = 0.6 * clip_probs + 0.4 * aug_prob # give a little more weight to the probability of the image.\n",
    "            EB_prediction = torch.argmax(output_prob).item()\n",
    "            \n",
    "            # if clip_prediction != EB_prediction then it changed its mind: the class with highest probability has changed - better do further checks.\n",
    "            if clip_prediction == EB_prediction: break\n",
    "\n",
    "            iter += 1\n",
    "        self.changeseed = 0\n",
    "        entropy = self.compute_entropy(output_prob)\n",
    "        return EB_prediction, output_prob.squeeze(), float(entropy)\n",
    "\n",
    "\n",
    "# Preparing the class for usage\n",
    "clip_model = CLIPModel()"
   ]
  },
  {
   "cell_type": "markdown",
   "metadata": {
    "id": "4yYC2YqhknDk"
   },
   "source": [
    "1 IMAGE TRIES ON CLIP, MEMO, TPT and EB :)"
   ]
  },
  {
   "cell_type": "code",
   "execution_count": 14,
   "metadata": {
    "colab": {
     "base_uri": "https://localhost:8080/"
    },
    "id": "B52IQTi6OyfW",
    "outputId": "d8e52605-ea10-48f4-e56e-776e5a2b1c21"
   },
   "outputs": [
    {
     "name": "stdout",
     "output_type": "stream",
     "text": [
      "Files already downloaded and verified\n"
     ]
    },
    {
     "data": {
      "text/plain": [
       "100"
      ]
     },
     "execution_count": 14,
     "metadata": {},
     "output_type": "execute_result"
    }
   ],
   "source": [
    "#Loading CIFAR100 for one image tries_\n",
    "cifar100 = clip_model.load_data()\n",
    "clip_model.tokenize_labels(cifar100.classes)\n",
    "image, class_id = cifar100[3637]\n",
    "len(cifar100.classes)"
   ]
  },
  {
   "cell_type": "code",
   "execution_count": 16,
   "metadata": {},
   "outputs": [
    {
     "name": "stdout",
     "output_type": "stream",
     "text": [
      "78\n",
      "2.208749294281006\n",
      "tensor([4.4409e-04, 2.0257e-03, 1.7850e-03, 6.7053e-05, 6.8302e-05, 1.2799e-04,\n",
      "        2.1407e-04, 8.0405e-03, 3.6831e-05, 1.3982e-04, 3.8572e-04, 3.0443e-04,\n",
      "        1.2713e-05, 3.9793e-05, 7.2395e-04, 5.2543e-05, 6.3892e-04, 1.7170e-05,\n",
      "        1.5631e-03, 3.5367e-04, 1.0214e-04, 4.6957e-04, 1.1729e-04, 1.9360e-05,\n",
      "        2.2551e-04, 6.2725e-05, 2.7089e-03, 4.3508e-02, 2.1955e-04, 1.7460e-03,\n",
      "        4.6290e-06, 1.6038e-04, 1.2927e-02, 3.8837e-05, 5.5391e-06, 2.1283e-04,\n",
      "        3.4115e-04, 4.3326e-05, 3.8308e-05, 9.3167e-05, 4.4401e-04, 2.5278e-03,\n",
      "        1.5629e-02, 3.2312e-04, 4.5569e-02, 5.2967e-05, 1.3752e-04, 4.2287e-05,\n",
      "        3.7950e-05, 1.7290e-04, 2.4531e-03, 1.0843e-03, 2.3604e-04, 2.8239e-04,\n",
      "        4.5561e-05, 5.3201e-05, 3.1678e-04, 5.2178e-05, 9.5018e-05, 5.7305e-04,\n",
      "        3.0544e-04, 6.4293e-04, 2.1116e-04, 1.2552e-04, 1.8514e-04, 2.5836e-04,\n",
      "        1.7865e-04, 2.3634e-04, 2.7643e-06, 4.6131e-06, 6.4169e-05, 2.6901e-05,\n",
      "        4.1291e-04, 1.9324e-05, 4.9106e-04, 9.3546e-05, 1.0680e-05, 1.4651e-02,\n",
      "        5.8744e-01, 1.0724e-03, 3.9147e-05, 2.2297e-05, 2.9193e-04, 3.2322e-02,\n",
      "        7.7673e-05, 2.4090e-03, 5.8943e-04, 9.7330e-05, 8.7041e-04, 4.2988e-05,\n",
      "        6.9078e-05, 1.6199e-04, 5.6775e-05, 1.9426e-01, 2.7203e-05, 6.5766e-06,\n",
      "        4.0043e-05, 2.9092e-05, 1.3313e-04, 1.1812e-02], device='cuda:0')\n"
     ]
    }
   ],
   "source": [
    "#Try entropyboosting\n",
    "prediction, probs, entropy = clip_model.entropyboosting(image)\n",
    "print(prediction)\n",
    "print(entropy)\n",
    "print(probs)"
   ]
  },
  {
   "cell_type": "code",
   "execution_count": 17,
   "metadata": {
    "colab": {
     "base_uri": "https://localhost:8080/"
    },
    "id": "087FNIiqpDUb",
    "outputId": "157fb454-8aae-497a-b5c6-aecf4b3d4569"
   },
   "outputs": [
    {
     "name": "stdout",
     "output_type": "stream",
     "text": [
      "78\n",
      "2.3266210556030273\n",
      "tensor([[1.1976e-03, 5.4628e-03, 4.8136e-03, 1.8082e-04, 1.8419e-04, 3.4514e-04,\n",
      "         5.7728e-04, 8.2105e-03, 9.9322e-05, 3.7705e-04, 1.0402e-03, 8.2096e-04,\n",
      "         3.4284e-05, 1.0731e-04, 1.9523e-03, 1.4169e-04, 1.7230e-03, 4.6304e-05,\n",
      "         4.2152e-03, 9.5374e-04, 2.7545e-04, 1.2663e-03, 3.1629e-04, 5.2210e-05,\n",
      "         6.0814e-04, 1.6915e-04, 7.3052e-03, 1.7485e-02, 5.9205e-04, 4.7085e-03,\n",
      "         1.2483e-05, 4.3251e-04, 8.4594e-03, 1.0473e-04, 1.4937e-05, 5.7395e-04,\n",
      "         9.1999e-04, 1.1684e-04, 1.0331e-04, 2.5125e-04, 1.1974e-03, 6.8169e-03,\n",
      "         1.7164e-02, 8.7137e-04, 1.8750e-02, 1.4284e-04, 3.7087e-04, 1.1404e-04,\n",
      "         1.0234e-04, 4.6626e-04, 6.6154e-03, 2.9242e-03, 6.3653e-04, 7.6153e-04,\n",
      "         1.2287e-04, 1.4347e-04, 8.5428e-04, 1.4071e-04, 2.5624e-04, 1.5454e-03,\n",
      "         8.2368e-04, 1.7338e-03, 5.6945e-04, 3.3850e-04, 4.9928e-04, 6.9673e-04,\n",
      "         4.8177e-04, 6.3735e-04, 7.4547e-06, 1.2440e-05, 1.7305e-04, 7.2545e-05,\n",
      "         1.1135e-03, 5.2111e-05, 1.3243e-03, 2.5227e-04, 2.8802e-05, 1.5945e-02,\n",
      "         6.5313e-01, 2.8920e-03, 1.0557e-04, 6.0129e-05, 7.8726e-04, 3.8252e-02,\n",
      "         2.0946e-04, 6.4964e-03, 1.5895e-03, 2.6247e-04, 2.3473e-03, 1.1593e-04,\n",
      "         1.8628e-04, 4.3683e-04, 1.5311e-04, 1.2288e-01, 7.3359e-05, 1.7735e-05,\n",
      "         1.0799e-04, 7.8453e-05, 3.5900e-04, 8.4517e-03]], device='cuda:0')\n"
     ]
    }
   ],
   "source": [
    "# Prediction using CLIP out of the box\n",
    "prediction1, probs1, entropy1 = clip_model.predict(image)\n",
    "print(prediction1)\n",
    "print(entropy1)\n",
    "print(probs1)"
   ]
  },
  {
   "cell_type": "code",
   "execution_count": 18,
   "metadata": {
    "colab": {
     "base_uri": "https://localhost:8080/",
     "height": 387
    },
    "id": "_RheDQxnoeB7",
    "outputId": "7b03df7f-81bc-4555-c017-377d44e5b3c4"
   },
   "outputs": [
    {
     "name": "stdout",
     "output_type": "stream",
     "text": [
      "78\n",
      "2.077364206314087\n",
      "tensor([[9.8620e-04, 4.7828e-03, 4.6798e-03, 1.5572e-04, 1.5197e-04, 3.0867e-04,\n",
      "         4.7689e-04, 6.2922e-03, 8.2343e-05, 3.0923e-04, 8.7553e-04, 8.1575e-04,\n",
      "         2.9356e-05, 8.9023e-05, 1.6763e-03, 1.1114e-04, 1.4614e-03, 3.6086e-05,\n",
      "         3.8958e-03, 8.0583e-04, 2.2591e-04, 1.1260e-03, 2.5036e-04, 4.4503e-05,\n",
      "         4.7512e-04, 1.3567e-04, 5.4395e-03, 1.5579e-02, 5.2545e-04, 4.0048e-03,\n",
      "         1.0843e-05, 3.6359e-04, 7.3783e-03, 9.3484e-05, 1.3365e-05, 5.7313e-04,\n",
      "         7.7305e-04, 1.0464e-04, 9.2250e-05, 1.8495e-04, 9.6642e-04, 6.5645e-03,\n",
      "         1.4847e-02, 7.2444e-04, 1.7678e-02, 1.1078e-04, 3.5591e-04, 1.0298e-04,\n",
      "         7.9667e-05, 3.7379e-04, 6.0870e-03, 2.3019e-03, 5.8701e-04, 6.6893e-04,\n",
      "         1.1238e-04, 1.3150e-04, 7.1440e-04, 1.1645e-04, 2.0226e-04, 1.4091e-03,\n",
      "         7.9140e-04, 1.5631e-03, 4.4642e-04, 2.7754e-04, 4.8233e-04, 6.4062e-04,\n",
      "         4.2063e-04, 5.6923e-04, 6.2323e-06, 9.5952e-06, 1.4697e-04, 6.2266e-05,\n",
      "         9.2542e-04, 4.5426e-05, 1.2508e-03, 2.6994e-04, 2.5094e-05, 1.3129e-02,\n",
      "         7.0722e-01, 2.4452e-03, 1.0118e-04, 5.2856e-05, 6.6586e-04, 3.6857e-02,\n",
      "         1.8823e-04, 4.7386e-03, 1.3757e-03, 2.2036e-04, 2.0671e-03, 8.7088e-05,\n",
      "         1.4390e-04, 3.7851e-04, 1.2681e-04, 9.3765e-02, 6.8134e-05, 1.4196e-05,\n",
      "         1.0045e-04, 6.6866e-05, 3.4894e-04, 8.3519e-03]], device='cuda:0')\n"
     ]
    }
   ],
   "source": [
    "#Prediction using MEMO with SGD\n",
    "clip_model.use_SGD()\n",
    "prediction2, probs2, entropy2 = clip_model.MEMO(image, num_augmentations=10)\n",
    "print(prediction2)\n",
    "print(entropy2)\n",
    "print(probs2)"
   ]
  },
  {
   "cell_type": "code",
   "execution_count": 20,
   "metadata": {
    "colab": {
     "base_uri": "https://localhost:8080/"
    },
    "id": "mlTDDcr_IRYf",
    "outputId": "8a58029d-da53-4ed3-96a2-5a039d91d2ea"
   },
   "outputs": [
    {
     "name": "stdout",
     "output_type": "stream",
     "text": [
      "78\n",
      "0.3890056312084198\n",
      "tensor([[7.0291e-05, 1.2202e-03, 2.0966e-03, 2.8387e-05, 4.4688e-06, 2.8498e-05,\n",
      "         3.2856e-05, 6.2306e-05, 1.0148e-05, 4.9512e-05, 2.7819e-04, 5.3239e-04,\n",
      "         6.4909e-06, 6.8183e-06, 9.8106e-05, 1.4464e-06, 4.3893e-04, 2.5695e-06,\n",
      "         4.9707e-04, 5.9817e-05, 5.5518e-06, 6.2155e-05, 4.5031e-06, 1.0935e-05,\n",
      "         5.5434e-06, 4.1206e-06, 2.6603e-05, 4.4461e-04, 3.8518e-04, 2.5397e-04,\n",
      "         1.2974e-06, 1.2624e-05, 4.2113e-05, 4.5163e-05, 2.7994e-06, 4.2294e-04,\n",
      "         7.2896e-05, 4.4254e-05, 1.0838e-05, 1.8192e-06, 3.2608e-05, 2.0624e-03,\n",
      "         5.1893e-04, 3.0729e-05, 3.5040e-03, 1.8276e-06, 1.2709e-04, 2.3962e-05,\n",
      "         5.4501e-06, 1.4678e-05, 1.1937e-03, 3.1151e-05, 1.7511e-04, 5.6660e-05,\n",
      "         2.8462e-05, 1.3722e-05, 4.6307e-05, 2.8664e-06, 9.7663e-06, 8.9210e-04,\n",
      "         2.8619e-04, 3.3893e-04, 2.8193e-06, 5.9115e-06, 1.3063e-04, 8.1566e-05,\n",
      "         3.1865e-05, 1.4796e-05, 5.0939e-07, 1.6153e-06, 1.7927e-05, 1.1527e-05,\n",
      "         8.4458e-06, 4.9185e-06, 1.6388e-04, 6.4259e-04, 8.2300e-06, 1.8448e-04,\n",
      "         9.5956e-01, 1.1634e-04, 1.8333e-05, 6.7579e-06, 2.8254e-05, 1.6869e-02,\n",
      "         4.2036e-05, 1.1157e-04, 7.6165e-05, 1.6402e-05, 2.6695e-04, 5.7434e-06,\n",
      "         6.3032e-06, 7.7760e-05, 5.5851e-06, 1.5060e-04, 1.2123e-05, 7.9850e-07,\n",
      "         7.1923e-05, 1.1627e-05, 1.2605e-04, 4.3244e-03]], device='cuda:0')\n"
     ]
    }
   ],
   "source": [
    "#Prediction using MEMO with ADAM\n",
    "clip_model.use_ADAM()\n",
    "clip_model.tokenize_labels(cifar100.classes) #You have to tokenize the labels again for the change in precision\n",
    "prediction3, probs3, entropy3 = clip_model.MEMO(image, num_augmentations=10)\n",
    "print(prediction3)\n",
    "print(entropy3)\n",
    "print(probs3)"
   ]
  },
  {
   "cell_type": "code",
   "execution_count": 21,
   "metadata": {
    "colab": {
     "base_uri": "https://localhost:8080/"
    },
    "id": "nrxX4QrwsCbv",
    "outputId": "828b2345-5334-418b-b40b-444910986132"
   },
   "outputs": [
    {
     "name": "stdout",
     "output_type": "stream",
     "text": [
      "59\n",
      "5.611426830291748\n",
      "tensor([0.0064, 0.0020, 0.0094, 0.0159, 0.0024, 0.0015, 0.0036, 0.0047, 0.0037,\n",
      "        0.0079, 0.0029, 0.0115, 0.0021, 0.0032, 0.0041, 0.0024, 0.0094, 0.0036,\n",
      "        0.0035, 0.0114, 0.0044, 0.0107, 0.0029, 0.0023, 0.0009, 0.0038, 0.0035,\n",
      "        0.0242, 0.0036, 0.0294, 0.0014, 0.0065, 0.0031, 0.0114, 0.0015, 0.0182,\n",
      "        0.0032, 0.0038, 0.0027, 0.0075, 0.0080, 0.0273, 0.0121, 0.0070, 0.0103,\n",
      "        0.0014, 0.0164, 0.0213, 0.0034, 0.0102, 0.0039, 0.0064, 0.0574, 0.0015,\n",
      "        0.0009, 0.0005, 0.0391, 0.0023, 0.0041, 0.1248, 0.0108, 0.0077, 0.0039,\n",
      "        0.0030, 0.0048, 0.0042, 0.0057, 0.0013, 0.0009, 0.0124, 0.0019, 0.0014,\n",
      "        0.0031, 0.0034, 0.0014, 0.0026, 0.0052, 0.0044, 0.1003, 0.0022, 0.0020,\n",
      "        0.0020, 0.0149, 0.0114, 0.0022, 0.0200, 0.0051, 0.0162, 0.0090, 0.0066,\n",
      "        0.0070, 0.0077, 0.0038, 0.0256, 0.0022, 0.0030, 0.0308, 0.0060, 0.0206,\n",
      "        0.0081])\n"
     ]
    }
   ],
   "source": [
    "# Prediction using TPT\n",
    "prediction4,prob_avg, entropy4 = clip_model.TPT(image, num_augmentations=10)\n",
    "print(prediction4)\n",
    "print(entropy4)\n",
    "print(prob_avg)"
   ]
  },
  {
   "cell_type": "markdown",
   "metadata": {},
   "source": [
    "# Theory (just to put it somewhere, later we can move this)"
   ]
  },
  {
   "cell_type": "markdown",
   "metadata": {},
   "source": [
    "I think that for now we can start writting the explanations for the methods here and then we can reorganize it for the final version"
   ]
  },
  {
   "cell_type": "markdown",
   "metadata": {},
   "source": [
    "## Test-Time Prompt Tuning (TPT) for Image Classification with CLIP"
   ]
  },
  {
   "cell_type": "markdown",
   "metadata": {},
   "source": [
    "Test-Time Prompt Tuning (TPT) is a method designed to enhance the performance of vision-language models like CLIP by adapting the text prompts dynamically at test time. This approach is particularly useful in zero-shot learning scenarios where the model needs to generalize to new tasks without additional training.\n",
    "\n",
    "### Concept Overview\n",
    "\n",
    "TPT optimizes the text prompt to improve consistency and confidence in the model's predictions across various augmented views of a test image. By minimizing the entropy of the prediction distribution average across low-entropy augmentations, TPT attempts to make the model more reliable and robust, even under slight variations in input data.\n",
    "\n",
    "### Implementation Details\n",
    "\n",
    "#### Step 1: Initial Setup\n",
    "- **Model Preparation**: Initialize the pre-trained CLIP model using `CLIPModel(model_name='ViT-B/32')`.\n",
    "- **Prompt Initialization**: Start with a basic prompt template like \"a photo of a {object}\", processed using the `tokenize_labels` method.\n",
    "\n",
    "#### Step 2: Augmentation and Prediction\n",
    "- **Generate Augmented Views**: Create multiple augmented versions of the test image using the `augment_image` method, which might include crops, rotations, and color adjustments, etc.\n",
    "\n",
    "#### Step 3: Define the Optimization Objective\n",
    "The goal is to minimize the entropy of the predicted probability distribution across different classes for the test image, computed using the `entropy_loss_TPT` method.\n",
    "\n",
    "##### Equation for Entropy Minimization:\n",
    "\\\\[ p^* = \\arg\\min_p -\\sum_{i=1}^K \\tilde{p}_p(y_i | X_{\\text{test}}) \\log \\tilde{p}_p(y_i | X_{\\text{test}}) \\\\]\n",
    "Where:\n",
    "- \\\\( p^* \\\\) is the optimized prompt.\n",
    "- \\\\( K \\\\) is the number of classes.\n",
    "- \\\\( \\tilde{p}_p(y_i | X_{\\text{test}}) \\\\) is the averaged predicted probability for class \\( y_i \\) also returned in `entropy_loss_TPT`.\n",
    "\n",
    "With the Averaged Prediction Probability defined as:\n",
    "\\\\[ \\tilde{p}_p(y_i | X_{\\text{test}}) = \\frac{1}{N} \\sum_{n=1}^N p_p(y_i | A_i(X_{\\text{test}})) \\\\]\n",
    "- \\\\( N \\\\) is the number of augmented views.\n",
    "- \\\\( A_i(X_{\\text{test}}) \\\\) denotes the \\( i \\)-th augmented view of the test image.\n",
    "\n",
    "#### Step 4: Optimize the Prompt\n",
    "In the paper, they use gradient-based optimization to adjust the prompt parameters (provided by CoOp or CoCoOp) by minimizing the entropy. In our case, we decided that training CoOp or CoCoOp is not what we want to focus on for the project, therefor, for now what `TPT` method gives us is a evaluation of how good the prompts are that we will use to guide a wider classification method.\n",
    "\n",
    "#### Step 5: Confidence Selection\n",
    "Filter out noisy predictions by applying a confidence selection mechanism (`confidence_selection`) that discards the augmentations with the highest entropy (over a threshold value).\n",
    "\n",
    "##### Confidence-Based Averaging:\n",
    "\\\\[ \\tilde{p}_p(y | X_{\\text{test}}) = \\frac{1}{\\rho N} \\sum_{i=1}^N 1[H(p_i) \\leq \\tau] p_p(y | A_i(X_{\\text{test}})) \\\\]\n",
    "- \\\\(\\rho\\\\) is the cutoff percentile on the N augmented views (set to 0.8 by default in our implementation).\n",
    "- \\\\( 1[H(p_i) \\leq \\tau] \\\\) is an indicator function that filters predictions based on their entropy \\\\( H \\\\), with \\\\( \\tau \\\\) being a threshold set in the `confidence_selection` method as the entropy of the \\\\(\\rho\\\\) percentile. We are removing the augmentations with the highest entropy in the top 20%.\n",
    "\n",
    "\n",
    "#### Step 6: Final Prediction\n",
    "Apply the optimized prompt to make the final prediction on the original test image using the `TPT` method, which performs the entire sequence described above except for the prompt optimization which we will implement in other method without using CoOp or CoCoOp.\n",
    "\n",
    "### Note:\n",
    "Apart from what the paper says, I TPT alone without prompt optimization returns the averaged probability over low-entropy augmentations without doing any training. This is basically saying that all the top 80% lowest entropy augmentations are equally valid and averages the predictions across them, so the original image does not have more weight in the output than the augmentations. This is not the use proposed bythe paper but I am runing it as well to see how it does. I mean, the idea is not that crazy actually, although it is quite sensitive to the kind of augmentations we do (if we have bad augmentations in the low entropy 80%, we will be saying that those are equally valid)."
   ]
  },
  {
   "cell_type": "markdown",
   "metadata": {},
   "source": [
    "# TESTS in AWS Bucket DATASET"
   ]
  },
  {
   "cell_type": "markdown",
   "metadata": {},
   "source": [
    "First, we are going to inspect the file directories we have access to with the datasets.\n",
    "\n",
    "With the following function we can print the folders and the first 3 subfolders."
   ]
  },
  {
   "cell_type": "code",
   "execution_count": 56,
   "metadata": {},
   "outputs": [],
   "source": [
    "#This is to list the s3_bucket folders and the first 3 subfolders\n",
    "def list_datasets_with_subfolders(s3_bucket, s3_region):\n",
    "    s3_client = boto3.client(\"s3\", region_name=s3_region, verify=True)\n",
    "    response = s3_client.list_objects_v2(Bucket=s3_bucket, Delimiter='/')\n",
    "    \n",
    "    # Use a set to keep track of unique folder names\n",
    "    folders = set()\n",
    "    \n",
    "    # Append the common prefixes which are the folder names\n",
    "    for prefix in response.get('CommonPrefixes', []):\n",
    "        folders.add(prefix.get('Prefix'))\n",
    "    \n",
    "    # Print out the available folders and their first 3 subfolders in the bucket\n",
    "    for folder in sorted(folders):\n",
    "        print(f\"Folder: {folder}\")\n",
    "        \n",
    "        # List objects within the folder to find subfolders\n",
    "        sub_response = s3_client.list_objects_v2(Bucket=s3_bucket, Prefix=folder, Delimiter='/')\n",
    "        subfolders = []\n",
    "        \n",
    "        for sub_prefix in sub_response.get('CommonPrefixes', []):\n",
    "            subfolders.append(sub_prefix.get('Prefix'))\n",
    "        \n",
    "        # Print the first 3 subfolders\n",
    "        for subfolder in sorted(subfolders)[:3]:\n",
    "            print(f\"  Subfolder: {subfolder}\")\n",
    "        if len(subfolders) > 3:\n",
    "            print(\"  ... and more subfolders\")\n",
    "        print()"
   ]
  },
  {
   "cell_type": "code",
   "execution_count": 4,
   "metadata": {},
   "outputs": [
    {
     "name": "stdout",
     "output_type": "stream",
     "text": [
      "Folder: OfficeHomeDataset_10072016/\n",
      "  Subfolder: OfficeHomeDataset_10072016/Art/\n",
      "  Subfolder: OfficeHomeDataset_10072016/Clipart/\n",
      "  Subfolder: OfficeHomeDataset_10072016/Product/\n",
      "  ... and more subfolders\n",
      "\n",
      "Folder: imagenet-a/\n",
      "  Subfolder: imagenet-a/n01498041/\n",
      "  Subfolder: imagenet-a/n01531178/\n",
      "  Subfolder: imagenet-a/n01534433/\n",
      "  ... and more subfolders\n",
      "\n",
      "Folder: imagenetv2-matched-frequency-format-val/\n",
      "  Subfolder: imagenetv2-matched-frequency-format-val/0/\n",
      "  Subfolder: imagenetv2-matched-frequency-format-val/1/\n",
      "  Subfolder: imagenetv2-matched-frequency-format-val/10/\n",
      "  ... and more subfolders\n",
      "\n"
     ]
    }
   ],
   "source": [
    "# Print the folders and first 3 subfolders of the AWS bucket\n",
    "s3_bucket = \"deeplearning2024-datasets\"\n",
    "s3_region = \"eu-west-1\"\n",
    "list_datasets_with_subfolders(s3_bucket, s3_region)"
   ]
  },
  {
   "cell_type": "markdown",
   "metadata": {},
   "source": [
    "## SERIALIZING OBJECTS\n"
   ]
  },
  {
   "cell_type": "markdown",
   "metadata": {},
   "source": [
    "To store all the relevant information of each prediction, we are going to use the PredictionResult class. This dataclass stores for each image (from which we store the file name as well) we save the indeces and probabilities of the top 5 predicted classes, the true label index and probability and the Shanon entropy of the whole probability vector. So for each image we get a dictionary with all those values.\n",
    "\n",
    "For saving and loading this results we will use .json files."
   ]
  },
  {
   "cell_type": "markdown",
   "metadata": {},
   "source": [
    "## Defining an object to store the result of each image"
   ]
  },
  {
   "cell_type": "code",
   "execution_count": 57,
   "metadata": {},
   "outputs": [],
   "source": [
    "@dataclass\n",
    "class PredictionResult:\n",
    "    image_id: str  # Name of the image file\n",
    "    top_indices: List[int]\n",
    "    top_probabilities: List[float]\n",
    "    true_label: int\n",
    "    true_label_rank: int\n",
    "    true_label_probability: float\n",
    "    prediction_entropy: float\n",
    "\n",
    "    def __init__(self, name_img: str, true_label: int, prediction: int, probs: torch.Tensor, entropy: float, num_top: int = 5, decimal_places: int = 6):\n",
    "        self.image_id = name_img\n",
    "        self.true_label = true_label\n",
    "        # Get the top 'num_top' indices and probabilities\n",
    "        top_probs, top_indices = torch.topk(probs, num_top)\n",
    "        self.top_indices = top_indices.tolist()\n",
    "        self.top_probabilities = [round(prob.item(), decimal_places) for prob in top_probs]\n",
    "        # True label information\n",
    "        self.true_label_rank = (probs.argsort(descending=True) == true_label).nonzero(as_tuple=True)[0].item() + 1\n",
    "        self.true_label_probability = round(probs[prediction].item(), decimal_places)\n",
    "        # Prediction entropy\n",
    "        self.prediction_entropy = entropy\n",
    "\n",
    "    def to_dict(self):\n",
    "        return asdict(self)\n",
    "\n",
    "    @classmethod\n",
    "    def from_dict(cls, data: dict):\n",
    "        obj = cls.__new__(cls)  # Create a new instance without calling __init__\n",
    "        # Directly assign the values\n",
    "        obj.image_id = data['image_id']\n",
    "        obj.top_indices  = data['top_indices']\n",
    "        obj.top_probabilities  = data['top_probabilities']\n",
    "        obj.true_label = data['true_label']\n",
    "        obj.true_label_rank = data['true_label_rank']\n",
    "        obj.true_label_probability = data['true_label_probability']\n",
    "        obj.prediction_entropy = data['prediction_entropy']\n",
    "        return obj"
   ]
  },
  {
   "cell_type": "code",
   "execution_count": 12,
   "metadata": {},
   "outputs": [
    {
     "name": "stdout",
     "output_type": "stream",
     "text": [
      "{'image_id': 'example_image.jpg', 'top_indices': [2, 1, 3], 'top_probabilities': [0.4, 0.3, 0.2], 'true_label_index': 2, 'true_label_probability': 0.4, 'prediction_entropy': 0.97}\n"
     ]
    }
   ],
   "source": [
    "# Example usage:\n",
    "name_img = 'example_image.jpg'\n",
    "prediction = 2\n",
    "probs = torch.tensor([0.1, 0.3, 0.4, 0.2])  # example tensor\n",
    "entropy = 0.97\n",
    "num_top = 3\n",
    "\n",
    "pred_result = PredictionResult(name_img, prediction, probs, entropy, num_top)\n",
    "print(pred_result.to_dict())"
   ]
  },
  {
   "cell_type": "markdown",
   "metadata": {},
   "source": [
    "## Defining a function to serialize a list of prediction objects"
   ]
  },
  {
   "cell_type": "code",
   "execution_count": 58,
   "metadata": {},
   "outputs": [],
   "source": [
    "#Serializing a list of Prediction objects\n",
    "\n",
    "# Function to serialize a list of PredictionResult objects\n",
    "def serialize_results(prediction_results: List[PredictionResult], file_path: str):\n",
    "    # Convert each PredictionResult object to a dictionary\n",
    "    results_as_dicts = [result.to_dict() for result in prediction_results]\n",
    "    \n",
    "    # Serialize the list of dictionaries to a JSON string\n",
    "    json_string = json.dumps(results_as_dicts, indent=4)\n",
    "    \n",
    "    # Write the JSON string to a file\n",
    "    with open(file_path, 'w') as f:\n",
    "        f.write(json_string)"
   ]
  },
  {
   "cell_type": "code",
   "execution_count": 14,
   "metadata": {},
   "outputs": [],
   "source": [
    "# Example usage:\n",
    "prediction_results = [\n",
    "    PredictionResult('example_image1.jpg', 2, torch.tensor([0.1, 0.3, 0.4, 0.2]), 0.97, 3),\n",
    "    PredictionResult('example_image2.jpg', 0, torch.tensor([0.6, 0.2, 0.1, 0.1]), 0.85, 3)\n",
    "]\n",
    "\n",
    "serialize_results(prediction_results, 'prediction_results.json')"
   ]
  },
  {
   "cell_type": "markdown",
   "metadata": {},
   "source": [
    "## Defining a function to load the serialized list of predictions from the .json file"
   ]
  },
  {
   "cell_type": "code",
   "execution_count": 59,
   "metadata": {},
   "outputs": [],
   "source": [
    "# Function to deserialize a list of PredictionResult objects from a file\n",
    "# Function to deserialize a list of PredictionResult objects from a file\n",
    "def deserialize_results(file_path: str) -> List[PredictionResult]:\n",
    "    # Read the JSON string from the file\n",
    "    with open(file_path, 'r') as f:\n",
    "        json_string = f.read()\n",
    "    \n",
    "    # Deserialize the JSON string to a list of dictionaries\n",
    "    results_as_dicts = json.loads(json_string)\n",
    "    \n",
    "    # Convert each dictionary back to a PredictionResult object using from_dict\n",
    "    prediction_results = [PredictionResult.from_dict(d) for d in results_as_dicts]\n",
    "    \n",
    "    return prediction_results"
   ]
  },
  {
   "cell_type": "code",
   "execution_count": 16,
   "metadata": {},
   "outputs": [
    {
     "name": "stdout",
     "output_type": "stream",
     "text": [
      "{'image_id': 'example_image1.jpg', 'top_indices': [2, 1, 3], 'top_probabilities': [0.4, 0.3, 0.2], 'true_label_index': 2, 'true_label_probability': 0.4, 'prediction_entropy': 0.97}\n",
      "{'image_id': 'example_image2.jpg', 'top_indices': [0, 1, 3], 'top_probabilities': [0.6, 0.2, 0.1], 'true_label_index': 0, 'true_label_probability': 0.6, 'prediction_entropy': 0.85}\n"
     ]
    }
   ],
   "source": [
    "# Example usage:\n",
    "deserialized_results = deserialize_results('prediction_results.json')\n",
    "for result in deserialized_results:\n",
    "    print(result.to_dict())"
   ]
  },
  {
   "cell_type": "markdown",
   "metadata": {},
   "source": [
    "## Implementing on testing function"
   ]
  },
  {
   "cell_type": "markdown",
   "metadata": {},
   "source": [
    "Here we are going to inherit the dataset class and define our own version to access the AWS bucket. \n",
    "\n",
    "Note: for the imageneta we have some class identifiers which are of the form n23423523... So since for creating the class labels we have to use the class names, we get them from a map defined using the .txt file that I found in HuggingFace. Also, the part were it sorts those class identifiers... I just copied it from the notebook from moodle but for this dataset, doesn't make much sense. I still have to implement the classnames for imagenetv2"
   ]
  },
  {
   "cell_type": "code",
   "execution_count": 60,
   "metadata": {},
   "outputs": [],
   "source": [
    "#Redefine for getting the imagefile name as well\n",
    "class S3ImageFolder(Dataset):\n",
    "    def __init__(self, root, transform=None, imageneta=True):\n",
    "        self.s3_bucket = \"deeplearning2024-datasets\"\n",
    "        self.s3_region = \"eu-west-1\"\n",
    "        self.s3_client = boto3.client(\"s3\", region_name=self.s3_region, verify=True)\n",
    "        self.transform = transform\n",
    "\n",
    "        # Get list of objects in the bucket\n",
    "        response = self.s3_client.list_objects_v2(Bucket=self.s3_bucket, Prefix=root)\n",
    "        objects = response.get(\"Contents\", [])\n",
    "        while response.get(\"NextContinuationToken\"):\n",
    "            response = self.s3_client.list_objects_v2(\n",
    "                Bucket=self.s3_bucket,\n",
    "                Prefix=root,\n",
    "                ContinuationToken=response[\"NextContinuationToken\"]\n",
    "            )\n",
    "            objects.extend(response.get(\"Contents\", []))\n",
    "\n",
    "        # Iterate and keep valid files only\n",
    "        self.instances = []\n",
    "        self.samples = []  # Add samples attribute\n",
    "        for item in objects:\n",
    "            key = item[\"Key\"]\n",
    "            path = Path(key)\n",
    "            \n",
    "            # Check if file is valid\n",
    "            if path.suffix.lower() not in (\".jpg\", \".jpeg\", \".png\", \".ppm\", \".bmp\", \".pgm\", \".tif\", \".tiff\", \".webp\"):\n",
    "                continue\n",
    "\n",
    "            # Get label\n",
    "            label = path.parent.name\n",
    "\n",
    "            # Keep track of valid instances\n",
    "            self.instances.append((label, key))\n",
    "            self.samples.append((key, label))  # Add to samples\n",
    "\n",
    "        # Sort classes in alphabetical order (as in ImageFolder)\n",
    "        self.classes = sorted(set(label for label, _ in self.instances)) #This contains keys of the form n0349583...\n",
    "        self.class_to_idx = {cls_name: i for i, cls_name in enumerate(self.classes)}\n",
    "        # Get the labels that will be used for the CLIP text_features\n",
    "        if imageneta:\n",
    "            self.class_to_name = self.map_classnames_imagenetA()\n",
    "            self.class_names = [self.class_to_name[cls] for cls in self.classes if cls in self.class_to_name]\n",
    "\n",
    "    \n",
    "    def map_classnames_imagenetA(self):\n",
    "        # Define the path to the words file\n",
    "        file_path = 'List_ClassNames_imageneta.txt'\n",
    "    \n",
    "        # Initialize an empty dictionary to store the class names with their corresponding IDs\n",
    "        class_dict = {}\n",
    "    \n",
    "        # Open and read the file line by line\n",
    "        with open(file_path, 'r') as file:\n",
    "            for line in file:\n",
    "                # Split each line into WordNet ID and class name, and strip to remove any leading/trailing whitespace\n",
    "                parts = line.strip().split(' ', 1)\n",
    "                if len(parts) > 1:\n",
    "                    # Use the WordNet ID as the key and the class name as the value in the dictionary\n",
    "                    class_dict[parts[0]] = parts[1]\n",
    "    \n",
    "        return class_dict\n",
    "    def __len__(self):\n",
    "        return len(self.instances)\n",
    "\n",
    "    def __getitem__(self, idx):\n",
    "        label, key = self.instances[idx]\n",
    "        response = self.s3_client.get_object(Bucket=self.s3_bucket, Key=key)\n",
    "        img = Image.open(response['Body'])\n",
    "\n",
    "        if self.transform:\n",
    "            img = self.transform(img)\n",
    "        \n",
    "        filename = os.path.basename(key)  # Extract the filename from the key\n",
    "\n",
    "        return img, self.class_to_idx[label], filename"
   ]
  },
  {
   "cell_type": "markdown",
   "metadata": {},
   "source": [
    "The following is to create a subset with the same amount of images per each class. The class inherited is because I neede to do the initialization of the datasetclass to avoid some errors. Don't worry much about it. \n",
    "\n",
    "The subset that the function returns is just the same object as the full dataset but with a fixed amount of images per class."
   ]
  },
  {
   "cell_type": "code",
   "execution_count": 61,
   "metadata": {
    "scrolled": true
   },
   "outputs": [],
   "source": [
    "# Create a subclass of Subset to include additional attributes\n",
    "class SubsetWithAttributes(Subset):\n",
    "    def __init__(self, dataset, indices):\n",
    "        super().__init__(dataset, indices)\n",
    "        self.classes = dataset.classes\n",
    "        self.class_to_idx = dataset.class_to_idx\n",
    "\n",
    "#Function for getting the subset\n",
    "def create_stratified_subset(dataset, num_samples_per_class=5):\n",
    "    # Fix the random seed for reproducibility\n",
    "    torch.manual_seed(0)\n",
    "    np.random.seed(0)\n",
    "\n",
    "    # Determine class indices\n",
    "    targets = np.array([dataset.class_to_idx[s[1]] for s in dataset.samples])\n",
    "    classes, class_indices = np.unique(targets, return_inverse=True)\n",
    "\n",
    "    # Select samples from each class\n",
    "    indices = []\n",
    "    for c in classes:\n",
    "        class_idx = np.where(class_indices == c)[0]\n",
    "        if len(class_idx) >= num_samples_per_class:\n",
    "            selected_indices = np.random.choice(class_idx, num_samples_per_class, replace=False)\n",
    "            indices.extend(selected_indices)\n",
    "        else:\n",
    "            # If a class has fewer than the desired number, take all\n",
    "            indices.extend(class_idx)\n",
    "\n",
    "    # Create subset\n",
    "    subset = SubsetWithAttributes(dataset, indices)\n",
    "    return subset"
   ]
  },
  {
   "cell_type": "code",
   "execution_count": 63,
   "metadata": {},
   "outputs": [],
   "source": [
    "# Create a subclass of Subset to include additional attributes\n",
    "class SubsetWithAttributes(Subset):\n",
    "    def __init__(self, dataset, indices):\n",
    "        super().__init__(dataset, indices)\n",
    "        self.classes = dataset.classes\n",
    "        self.class_to_idx = dataset.class_to_idx\n",
    "\n",
    "#Function for getting the subset\n",
    "def create_stratified_subset(dataset, num_samples_per_class=5):\n",
    "    # Fix the random seed for reproducibility\n",
    "    torch.manual_seed(0)\n",
    "    np.random.seed(0)\n",
    "\n",
    "    # Determine class indices\n",
    "    targets = np.array([dataset.class_to_idx[s[1]] for s in dataset.samples])\n",
    "    classes, class_indices = np.unique(targets, return_inverse=True)\n",
    "\n",
    "    # Select samples from each class\n",
    "    indices = []\n",
    "    for c in classes:\n",
    "        class_idx = np.where(class_indices == c)[0]\n",
    "        if len(class_idx) >= num_samples_per_class:\n",
    "            selected_indices = np.random.choice(class_idx, num_samples_per_class, replace=False)\n",
    "            indices.extend(selected_indices)\n",
    "        else:\n",
    "            # If a class has fewer than the desired number, take all\n",
    "            indices.extend(class_idx)\n",
    "\n",
    "    # Create subset\n",
    "    subset = SubsetWithAttributes(dataset, indices)\n",
    "    return subset"
   ]
  },
  {
   "cell_type": "code",
   "execution_count": null,
   "metadata": {},
   "outputs": [],
   "source": [
    "# Example usage of a subset of Imagenet-A with 5 samples per class (Remember to define imagenetA before creating a subset)\n",
    "subset = create_stratified_subset(imageneta, num_samples_per_class=5)"
   ]
  },
  {
   "cell_type": "markdown",
   "metadata": {},
   "source": [
    "## Testing"
   ]
  },
  {
   "cell_type": "markdown",
   "metadata": {},
   "source": [
    "Finally, we define the testing function. It tokenizes the class labels of the dataset using the tokenize_labels. So if we want to use different labels, we should probably create another method of CLIP and put it here or modify the existing tokenize_labels to do something else than \"A photo of a {class}\".\n",
    "\n",
    "Note: In the implementation, inside the loop, I declaring the resultfilename in every single iteration. Which does not make sense from a performance point of view. But I did not want to put it outside the loop and put another 4 conditionals because I thought it would be less readable and the performance, would not be that much worse.\n",
    "\n",
    "Note 2: Also the average calculations, could be done with the data from the .json files, so there is really no point on doing it here but I left it since I had it from a previous implementation of the tests. But I think, we should leave the testing just to create the .json files and then use them to do all the computations afterwards, without having CLIP computing stuff around. Just used the already collected data."
   ]
  },
  {
   "cell_type": "code",
   "execution_count": 64,
   "metadata": {},
   "outputs": [],
   "source": [
    "# Define the testing function\n",
    "def testing(dataset, model, method='CLIP', batch_size=32, num_aug=20):\n",
    "    model.tokenize_labels(dataset.class_names)\n",
    "\n",
    "    def custom_collate_fn(batch):\n",
    "        images = [item[0] for item in batch]  # PIL images\n",
    "        labels = [item[1] for item in batch]  # Corresponding labels\n",
    "        filenames = [item[2] for item in batch]    # Corresponding keys/IDs\n",
    "        return images, labels, filenames\n",
    "    \n",
    "    #We use num_workers=4 but this only works well when using the gpu, not the cpu.\n",
    "    dataloader = DataLoader(dataset, batch_size=batch_size, shuffle=False, collate_fn=custom_collate_fn, num_workers=4)\n",
    "\n",
    "    # Initialize lists to store results\n",
    "    correct_predictions = 0\n",
    "    total_predictions = 0\n",
    "    entropies = []\n",
    "    confidences = []\n",
    "    results = []\n",
    "\n",
    "    # Evaluation loop\n",
    "    for images, labels, filenames in tqdm(dataloader):  \n",
    "        for image, label, filename in zip(images, labels, filenames): \n",
    "            try:\n",
    "                # We choose how the test time predictions are made\n",
    "                if method == 'CLIP':\n",
    "                    prediction, probs, entropy = model.predict(image)\n",
    "                    resultsfilename = 'CLIP_Base_results.json'\n",
    "                elif method == 'MEMO':\n",
    "                    prediction, probs, entropy = model.MEMO(image, num_augmentations=num_aug)\n",
    "                    resultsfilename = 'CLIP_MEMO_results.json'\n",
    "                elif method == 'TPT':\n",
    "                    prediction, probs, entropy = model.TPT(image, num_augmentations=num_aug)\n",
    "                    resultsfilename = 'CLIP_TPT_results.json'\n",
    "                elif method == 'EB':\n",
    "                    prediction, probs, entropy = model.entropyboosting(image, num_augmentations=num_aug)\n",
    "                    resultsfilename = 'CLIP_EB_results.json'\n",
    "                else:\n",
    "                    print('Enter a valid method for testing.')\n",
    "\n",
    "                #Store the results of each image:\n",
    "                results.append(PredictionResult(filename, label, prediction, probs, entropy))\n",
    "\n",
    "                #Some computations for getting average results at the end\n",
    "                if int(prediction) == int(label):\n",
    "                    correct_predictions += 1\n",
    "                total_predictions += 1\n",
    "                entropies.append(entropy)\n",
    "                confidences.append(torch.max(probs).item())\n",
    "            except Exception as e:\n",
    "                print(f\"An error occurred: {e}\")\n",
    "\n",
    "    #Serializing results for each image:\n",
    "    serialize_results(results, resultsfilename)\n",
    "    \n",
    "    # Post evaluation general statistics\n",
    "    accuracy = (correct_predictions / total_predictions) * 100\n",
    "    average_entropy = sum(entropies) / len(entropies)\n",
    "    average_confidence = sum(confidences) / len(confidences)\n",
    "    print(f'Accuracy: {accuracy:.2f}%')\n",
    "    print(f'Average entropy across all predictions: {average_entropy:.2f}')\n",
    "    print(f'Average confidence across all predictions: {average_confidence:.2f}')"
   ]
  },
  {
   "cell_type": "markdown",
   "metadata": {},
   "source": [
    "### After all the definitions here we create the dataset object and use the testing function with the different methods"
   ]
  },
  {
   "cell_type": "code",
   "execution_count": 65,
   "metadata": {},
   "outputs": [],
   "source": [
    "#Load the imagenet-a\n",
    "s3_rootA = 'imagenet-a'\n",
    "imageneta = S3ImageFolder(root=s3_rootA)"
   ]
  },
  {
   "cell_type": "code",
   "execution_count": null,
   "metadata": {},
   "outputs": [],
   "source": [
    "#Load the imagenet-v2\n",
    "s3_rootV2 = 'imagenetv2-matched-frequency-format-val'\n",
    "imagenetv2 = S3ImageFolder(root=s3_rootV2)"
   ]
  },
  {
   "cell_type": "code",
   "execution_count": 21,
   "metadata": {},
   "outputs": [
    {
     "name": "stdout",
     "output_type": "stream",
     "text": [
      "['stingray', 'goldfinch', 'junco', 'American robin', 'jay', 'bald eagle', 'vulture', 'newt', 'American bullfrog', 'box turtle', 'green iguana', 'agama', 'chameleon', 'American alligator', 'garter snake', 'harvestman', 'scorpion', 'tarantula', 'centipede', 'sulphur-crested cockatoo', 'lorikeet', 'hummingbird', 'toucan', 'duck', 'goose', 'koala', 'jellyfish', 'sea anemone', 'flatworm', 'snail', 'crayfish', 'hermit crab', 'flamingo', 'great egret', 'oystercatcher', 'pelican', 'sea lion', 'Chihuahua', 'Golden Retriever', 'Rottweiler', 'German Shepherd Dog', 'pug', 'red fox', 'Persian cat', 'lynx', 'lion', 'American black bear', 'mongoose', 'ladybug', 'rhinoceros beetle', 'weevil', 'fly', 'bee', 'ant', 'grasshopper', 'stick insect', 'cockroach', 'mantis', 'leafhopper', 'dragonfly', 'monarch butterfly', 'small white', 'gossamer-winged butterfly', 'starfish', 'cottontail rabbit', 'porcupine', 'fox squirrel', 'marmot', 'bison', 'skunk', 'armadillo', 'baboon', 'white-headed capuchin', 'African bush elephant', 'pufferfish', 'academic gown', 'accordion', 'acoustic guitar', 'airliner', 'ambulance', 'apron', 'balance beam', 'balloon', 'banjo', 'barn', 'wheelbarrow', 'basketball', 'lighthouse', 'beaker', 'bikini', 'bow', 'bow tie', 'breastplate', 'broom', 'candle', 'canoe', 'castle', 'cello', 'chain', 'chest', 'Christmas stocking', 'cowboy boot', 'cradle', 'rotary dial telephone', 'digital clock', 'doormat', 'drumstick', 'dumbbell', 'envelope', 'feather boa', 'flagpole', 'forklift', 'fountain', 'garbage truck', 'goblet', 'go-kart', 'golf cart', 'grand piano', 'hair dryer', 'clothes iron', \"jack-o'-lantern\", 'jeep', 'kimono', 'lighter', 'limousine', 'manhole cover', 'maraca', 'marimba', 'mask', 'mitten', 'mosque', 'nail', 'obelisk', 'ocarina', 'organ', 'parachute', 'parking meter', 'piggy bank', 'billiard table', 'hockey puck', 'quill', 'racket', 'reel', 'revolver', 'rocking chair', 'rugby ball', 'salt shaker', 'sandal', 'saxophone', 'school bus', 'schooner', 'sewing machine', 'shovel', 'sleeping bag', 'snowmobile', 'snowplow', 'soap dispenser', 'spatula', 'spider web', 'steam locomotive', 'stethoscope', 'couch', 'submarine', 'sundial', 'suspension bridge', 'syringe', 'tank', 'teddy bear', 'toaster', 'torch', 'tricycle', 'umbrella', 'unicycle', 'viaduct', 'volleyball', 'washing machine', 'water tower', 'wine bottle', 'shipwreck', 'guacamole', 'pretzel', 'cheeseburger', 'hot dog', 'broccoli', 'cucumber', 'bell pepper', 'mushroom', 'lemon', 'banana', 'custard apple', 'pomegranate', 'carbonara', 'bubble', 'cliff', 'volcano', 'baseball player', 'rapeseed', \"yellow lady's slipper\", 'corn', 'acorn']\n"
     ]
    }
   ],
   "source": [
    "# Class names from ImagenetA\n",
    "print(imageneta.class_names)"
   ]
  },
  {
   "cell_type": "code",
   "execution_count": 66,
   "metadata": {},
   "outputs": [
    {
     "name": "stderr",
     "output_type": "stream",
     "text": [
      "/opt/conda/lib/python3.10/site-packages/torch/utils/data/dataloader.py:561: UserWarning: This DataLoader will create 4 worker processes in total. Our suggested max number of worker in current system is 2, which is smaller than what this DataLoader is going to create. Please be aware that excessive worker creation might get DataLoader running slow or even freeze, lower the worker number to avoid potential slowness/freeze if necessary.\n",
      "  warnings.warn(_create_warning_msg(\n",
      "100%|██████████| 215/215 [28:31<00:00,  7.96s/it]\n"
     ]
    },
    {
     "name": "stdout",
     "output_type": "stream",
     "text": [
      "Accuracy: 29.85%\n",
      "Average entropy across all predictions: 3.16\n",
      "Average confidence across all predictions: 0.46\n"
     ]
    }
   ],
   "source": [
    "#subset = create_stratified_subset(imageneta, num_samples_per_class=1)\n",
    "testing(imageneta, clip_model, method='CLIP', batch_size=35)"
   ]
  },
  {
   "cell_type": "code",
   "execution_count": 12,
   "metadata": {},
   "outputs": [
    {
     "name": "stderr",
     "output_type": "stream",
     "text": [
      "100%|██████████| 215/215 [1:23:58<00:00, 23.44s/it]\n"
     ]
    },
    {
     "name": "stdout",
     "output_type": "stream",
     "text": [
      "Accuracy: 30.81%\n",
      "Average entropy across all predictions: 2.69\n",
      "Average confidence across all predictions: 0.45\n"
     ]
    }
   ],
   "source": [
    "testing(imageneta, clip_model, method='EB', batch_size=35)"
   ]
  },
  {
   "cell_type": "code",
   "execution_count": 28,
   "metadata": {},
   "outputs": [
    {
     "name": "stderr",
     "output_type": "stream",
     "text": [
      "100%|██████████| 215/215 [1:16:49<00:00, 21.44s/it]\n"
     ]
    },
    {
     "name": "stdout",
     "output_type": "stream",
     "text": [
      "Accuracy: 33.93%\n",
      "Average entropy across all predictions: 2.67\n",
      "Average confidence across all predictions: 0.53\n"
     ]
    }
   ],
   "source": [
    "testing(imageneta, clip_model, method='MEMO', batch_size=35)"
   ]
  },
  {
   "cell_type": "code",
   "execution_count": 22,
   "metadata": {},
   "outputs": [
    {
     "name": "stderr",
     "output_type": "stream",
     "text": [
      "100%|██████████| 215/215 [1:02:46<00:00, 17.52s/it]\n"
     ]
    },
    {
     "name": "stdout",
     "output_type": "stream",
     "text": [
      "Accuracy: 27.60%\n",
      "Average entropy across all predictions: 4.70\n",
      "Average confidence across all predictions: 0.25\n"
     ]
    }
   ],
   "source": [
    "testing(imageneta, clip_model, method='TPT', batch_size=35)"
   ]
  },
  {
   "cell_type": "markdown",
   "metadata": {},
   "source": [
    "# Analyzing results"
   ]
  },
  {
   "cell_type": "markdown",
   "metadata": {},
   "source": [
    "The following function is to compute some meaningful values from the data logged into the .json files"
   ]
  },
  {
   "cell_type": "code",
   "execution_count": 67,
   "metadata": {},
   "outputs": [],
   "source": [
    "from dataclasses import asdict\n",
    "from typing import List, Dict\n",
    "\n",
    "def analyze_results(results_list: List[PredictionResult]) -> Dict[str, List[float]]:\n",
    "    # Dictionary to hold statistics for each class\n",
    "    class_stats = {}\n",
    "    # Global count of cases where the true label was among the top 5 predictions\n",
    "    global_top5 = 0\n",
    "    # Lists to hold entropies for all correctly and incorrectly predicted cases globally\n",
    "    correct_global_entropy = []\n",
    "    incorrect_global_entropy = []\n",
    "\n",
    "    # Process each prediction result in the list\n",
    "    for result in results_list:\n",
    "        class_index = result.true_label  # Extract the class index from the result\n",
    "\n",
    "        # Initialize statistics for the class if it hasn't been done yet\n",
    "        if class_index not in class_stats:\n",
    "            class_stats[class_index] = {\n",
    "                'total': 0,  # Total predictions for this class\n",
    "                'correct': 0,  # Count of correct predictions\n",
    "                'true_in_top5': 0,  # Count of times true label was in the top 5 predictions\n",
    "                'entropies': [],  # List of entropies for all predictions\n",
    "                'correct_entropies': [],  # List of entropies for correct predictions\n",
    "                'incorrect_entropies': []  # List of entropies for incorrect predictions\n",
    "            }\n",
    "\n",
    "        # Update the total number of predictions for this class\n",
    "        class_stats[class_index]['total'] += 1\n",
    "\n",
    "        # Check if the true label is in the top 5 predictions\n",
    "        if class_index in result.top_indices:\n",
    "            class_stats[class_index]['true_in_top5'] += 1\n",
    "            global_top5 += 1  # Increment global top-5 counter\n",
    "\n",
    "        # Check if the prediction was correct (true label is the top prediction)\n",
    "        if class_index == result.top_indices[0]:\n",
    "            class_stats[class_index]['correct'] += 1\n",
    "            class_stats[class_index]['correct_entropies'].append(result.prediction_entropy)\n",
    "            correct_global_entropy.append(result.prediction_entropy)  # Add entropy to global correct list\n",
    "        else:\n",
    "            class_stats[class_index]['incorrect_entropies'].append(result.prediction_entropy)\n",
    "            incorrect_global_entropy.append(result.prediction_entropy)  # Add entropy to global incorrect list\n",
    "\n",
    "        # Record the entropy for this prediction to calculate the average later\n",
    "        class_stats[class_index]['entropies'].append(result.prediction_entropy)\n",
    "\n",
    "    # Create a dictionary to store computed insights\n",
    "    # Here we store the global insights\n",
    "    result_insights = {\n",
    "    'accuracy_per_class': {}, # Accuracy for each class\n",
    "    'top5_per_class': {}, # Top-5 accuracy for each class\n",
    "    'global_top5': global_top5 / len(results_list),  # Global top-5 accuracy\n",
    "    'avg_entropy_per_class': {}, # Average entropy for each class\n",
    "    'avg_correct_entropy_per_class': {}, # Average entropy for correct predictions per class\n",
    "    'global_avg_correct_entropy': sum(correct_global_entropy) / len(correct_global_entropy) if correct_global_entropy else 0,\n",
    "    'avg_incorrect_entropy_per_class': {}, # Average entropy for incorrect predictions per class\n",
    "    'global_avg_incorrect_entropy': sum(incorrect_global_entropy) / len(incorrect_global_entropy) if incorrect_global_entropy else 0\n",
    "}\n",
    "\n",
    "    # Here we compute and store also the insights per class into the result_insights\n",
    "    for idx, stats in class_stats.items():\n",
    "        total = stats['total']\n",
    "        correct = stats['correct']\n",
    "        top5 = stats['true_in_top5']\n",
    "        entropies = stats['entropies']\n",
    "        correct_entropies = stats['correct_entropies']\n",
    "        incorrect_entropies = stats['incorrect_entropies']\n",
    "\n",
    "        # Compute and store class-specific statistics\n",
    "        result_insights['accuracy_per_class'][idx] = correct / total if total > 0 else 0\n",
    "        result_insights['top5_per_class'][idx] = top5 / total if total > 0 else 0\n",
    "        result_insights['avg_entropy_per_class'][idx] = sum(entropies) / total if total > 0 else 0\n",
    "        if correct_entropies:\n",
    "            result_insights['avg_correct_entropy_per_class'][idx] = sum(correct_entropies) / len(correct_entropies)\n",
    "        else:\n",
    "            result_insights['avg_correct_entropy_per_class'][idx] = 0  # No correct predictions in this class\n",
    "        if incorrect_entropies:\n",
    "            result_insights['avg_incorrect_entropy_per_class'][idx] = sum(incorrect_entropies) / len(incorrect_entropies)\n",
    "        else:\n",
    "            result_insights['avg_incorrect_entropy_per_class'][idx] = 0  # No incorrect predictions in this class\n",
    "    \n",
    "    return result_insights"
   ]
  },
  {
   "cell_type": "code",
   "execution_count": 68,
   "metadata": {},
   "outputs": [],
   "source": [
    "# Example result_insights structure\n",
    "list_results= deserialize_results('CLIP_Base_results.json')\n",
    "result_insights = analyze_results(list_results)\n"
   ]
  },
  {
   "cell_type": "code",
   "execution_count": 69,
   "metadata": {},
   "outputs": [
    {
     "name": "stdout",
     "output_type": "stream",
     "text": [
      "7500\n",
      "PredictionResult(image_id='0.000116_digital clock _ digital clock_0.865662.jpg', top_indices=[178, 26, 193, 35, 0], top_probabilities=[0.45922, 0.052575, 0.05001, 0.041071, 0.038434], true_label=0, true_label_rank=5, true_label_probability=0.45922, prediction_entropy=3.9333205223083496)\n"
     ]
    }
   ],
   "source": [
    "print(len(list_results))\n",
    "print(list_results[0])"
   ]
  },
  {
   "cell_type": "code",
   "execution_count": 70,
   "metadata": {},
   "outputs": [
    {
     "name": "stdout",
     "output_type": "stream",
     "text": [
      "{'accuracy_per_class': {0: 0.3157894736842105, 1: 0.37, 2: 0.39, 3: 0.44, 4: 0.423728813559322, 5: 0.32941176470588235, 6: 0.18421052631578946, 7: 0.44642857142857145, 8: 0.39, 9: 0.359375, 10: 0.16, 11: 0.2, 12: 0.056818181818181816, 13: 0.36231884057971014, 14: 0.37037037037037035, 15: 0.2835820895522388, 16: 0.25510204081632654, 17: 0.2857142857142857, 18: 0.08064516129032258, 19: 0.3150684931506849, 20: 0.59375, 21: 0.22448979591836735, 22: 0.16326530612244897, 23: 0.5441176470588235, 24: 0.44329896907216493, 25: 0.7307692307692307, 26: 0.2696629213483146, 27: 0.29591836734693877, 28: 0.06, 29: 0.14285714285714285, 30: 0.14130434782608695, 31: 0.038461538461538464, 32: 0.42857142857142855, 33: 0.14606741573033707, 34: 0.2222222222222222, 35: 0.2962962962962963, 36: 0.3684210526315789, 37: 0.2857142857142857, 38: 0.2631578947368421, 39: 0.3142857142857143, 40: 0.0, 41: 0.12, 42: 0.38235294117647056, 43: 0.2972972972972973, 44: 0.1836734693877551, 45: 0.2391304347826087, 46: 0.4838709677419355, 47: 0.22807017543859648, 48: 0.4, 49: 0.125, 50: 0.0, 51: 0.23232323232323232, 52: 0.3711340206185567, 53: 0.07246376811594203, 54: 0.15, 55: 0.2786885245901639, 56: 0.3484848484848485, 57: 0.17, 58: 0.375, 59: 0.2625, 60: 0.3253012048192771, 61: 0.27419354838709675, 62: 0.19753086419753085, 63: 0.3548387096774194, 64: 0.36666666666666664, 65: 0.07017543859649122, 66: 0.36, 67: 0.08695652173913043, 68: 0.6470588235294118, 69: 0.59375, 70: 0.20833333333333334, 71: 0.0, 72: 0.1, 73: 0.5357142857142857, 74: 0.2558139534883721, 75: 0.8333333333333334, 76: 0.4, 77: 0.4090909090909091, 78: 0.64, 79: 0.42857142857142855, 80: 0.5454545454545454, 81: 0.5483870967741935, 82: 0.28125, 83: 0.2, 84: 0.4, 85: 0.30952380952380953, 86: 0.717391304347826, 87: 0.34615384615384615, 88: 0.14285714285714285, 89: 0.3181818181818182, 90: 0.2, 91: 0.18518518518518517, 92: 0.5454545454545454, 93: 0.05714285714285714, 94: 0.35, 95: 0.5, 96: 0.5, 97: 0.5714285714285714, 98: 0.0967741935483871, 99: 0.21428571428571427, 100: 0.5217391304347826, 101: 0.14285714285714285, 102: 0.42857142857142855, 103: 0.15384615384615385, 104: 0.42857142857142855, 105: 0.06666666666666667, 106: 0.0, 107: 0.42105263157894735, 108: 0.3611111111111111, 109: 0.125, 110: 0.4444444444444444, 111: 0.15384615384615385, 112: 0.5769230769230769, 113: 0.6666666666666666, 114: 0.39285714285714285, 115: 0.6363636363636364, 116: 0.42105263157894735, 117: 0.42857142857142855, 118: 0.3, 119: 0.6666666666666666, 120: 0.7083333333333334, 121: 0.38235294117647056, 122: 0.6666666666666666, 123: 0.0625, 124: 0.5714285714285714, 125: 0.28125, 126: 0.2, 127: 0.2631578947368421, 128: 0.2765957446808511, 129: 0.25806451612903225, 130: 0.7333333333333333, 131: 0.0, 132: 0.4, 133: 0.375, 134: 0.25, 135: 0.35714285714285715, 136: 0.3076923076923077, 137: 0.38461538461538464, 138: 0.21739130434782608, 139: 0.42857142857142855, 140: 0.0, 141: 0.24, 142: 0.07692307692307693, 143: 0.08333333333333333, 144: 0.30434782608695654, 145: 0.35294117647058826, 146: 0.07142857142857142, 147: 0.1956521739130435, 148: 0.07142857142857142, 149: 0.5333333333333333, 150: 0.5, 151: 0.42105263157894735, 152: 0.058823529411764705, 153: 0.5555555555555556, 154: 0.23076923076923078, 155: 0.36363636363636365, 156: 0.0, 157: 0.15, 158: 0.1794871794871795, 159: 0.696969696969697, 160: 0.4117647058823529, 161: 0.36363636363636365, 162: 0.47368421052631576, 163: 0.3684210526315789, 164: 0.5, 165: 0.2727272727272727, 166: 0.5384615384615384, 167: 0.13114754098360656, 168: 0.0625, 169: 0.4583333333333333, 170: 0.0, 171: 0.1935483870967742, 172: 0.25, 173: 0.5, 174: 0.8148148148148148, 175: 0.2, 176: 0.15384615384615385, 177: 0.275, 178: 0.45454545454545453, 179: 0.45, 180: 0.2, 181: 0.4375, 182: 0.07692307692307693, 183: 0.16666666666666666, 184: 0.13793103448275862, 185: 0.11904761904761904, 186: 0.2653061224489796, 187: 0.08695652173913043, 188: 0.08695652173913043, 189: 0.0, 190: 0.1111111111111111, 191: 0.7333333333333333, 192: 0.21951219512195122, 193: 0.25, 194: 0.3684210526315789, 195: 0.75, 196: 0.35294117647058826, 197: 0.0, 198: 0.1111111111111111, 199: 0.08695652173913043}, 'top5_per_class': {0: 0.6973684210526315, 1: 0.72, 2: 0.69, 3: 0.72, 4: 0.7796610169491526, 5: 0.6823529411764706, 6: 0.7236842105263158, 7: 0.8392857142857143, 8: 0.67, 9: 0.71875, 10: 0.46, 11: 0.5, 12: 0.6022727272727273, 13: 0.5942028985507246, 14: 0.6296296296296297, 15: 0.5522388059701493, 16: 0.6632653061224489, 17: 0.5476190476190477, 18: 0.43548387096774194, 19: 0.6027397260273972, 20: 0.78125, 21: 0.6632653061224489, 22: 0.6530612244897959, 23: 0.8529411764705882, 24: 0.8247422680412371, 25: 0.9230769230769231, 26: 0.7191011235955056, 27: 0.6632653061224489, 28: 0.43, 29: 0.4805194805194805, 30: 0.5652173913043478, 31: 0.5769230769230769, 32: 0.9285714285714286, 33: 0.38202247191011235, 34: 0.4444444444444444, 35: 0.7407407407407407, 36: 0.7631578947368421, 37: 0.6666666666666666, 38: 0.631578947368421, 39: 0.6285714285714286, 40: 0.23076923076923078, 41: 0.4, 42: 0.7647058823529411, 43: 0.5945945945945946, 44: 0.46938775510204084, 45: 0.6304347826086957, 46: 0.7096774193548387, 47: 0.6491228070175439, 48: 0.69, 49: 0.625, 50: 0.3333333333333333, 51: 0.5858585858585859, 52: 0.6185567010309279, 53: 0.391304347826087, 54: 0.57, 55: 0.5409836065573771, 56: 0.6818181818181818, 57: 0.56, 58: 0.625, 59: 0.5625, 60: 0.6144578313253012, 61: 0.4838709677419355, 62: 0.4567901234567901, 63: 0.5806451612903226, 64: 0.6333333333333333, 65: 0.7017543859649122, 66: 0.63, 67: 0.5652173913043478, 68: 1.0, 69: 0.796875, 70: 0.625, 71: 0.42857142857142855, 72: 0.9, 73: 0.7142857142857143, 74: 0.6976744186046512, 75: 0.9166666666666666, 76: 0.8, 77: 0.6363636363636364, 78: 0.84, 79: 0.8571428571428571, 80: 0.8181818181818182, 81: 0.8387096774193549, 82: 0.65625, 83: 0.2, 84: 0.6, 85: 0.7142857142857143, 86: 0.8913043478260869, 87: 0.6923076923076923, 88: 0.42857142857142855, 89: 0.5909090909090909, 90: 0.44, 91: 0.5185185185185185, 92: 0.8181818181818182, 93: 0.2857142857142857, 94: 0.6333333333333333, 95: 0.7, 96: 0.7857142857142857, 97: 0.7142857142857143, 98: 0.2903225806451613, 99: 0.5, 100: 0.782608695652174, 101: 0.4642857142857143, 102: 0.5714285714285714, 103: 0.46153846153846156, 104: 0.42857142857142855, 105: 0.3333333333333333, 106: 0.13333333333333333, 107: 0.631578947368421, 108: 0.6666666666666666, 109: 0.375, 110: 0.7777777777777778, 111: 0.38461538461538464, 112: 0.8846153846153846, 113: 0.8888888888888888, 114: 0.75, 115: 0.6363636363636364, 116: 0.8947368421052632, 117: 0.7142857142857143, 118: 0.7, 119: 0.6666666666666666, 120: 0.8333333333333334, 121: 0.8235294117647058, 122: 0.8148148148148148, 123: 0.203125, 124: 0.7142857142857143, 125: 0.6875, 126: 0.5333333333333333, 127: 0.631578947368421, 128: 0.46808510638297873, 129: 0.7096774193548387, 130: 1.0, 131: 0.375, 132: 0.85, 133: 0.625, 134: 0.9166666666666666, 135: 0.6428571428571429, 136: 0.38461538461538464, 137: 0.5384615384615384, 138: 0.6521739130434783, 139: 0.5714285714285714, 140: 0.18181818181818182, 141: 0.72, 142: 0.3076923076923077, 143: 0.25, 144: 0.7391304347826086, 145: 0.7647058823529411, 146: 0.25, 147: 0.5434782608695652, 148: 0.5714285714285714, 149: 0.8333333333333334, 150: 0.8125, 151: 0.631578947368421, 152: 0.35294117647058826, 153: 0.8888888888888888, 154: 0.8461538461538461, 155: 1.0, 156: 0.0, 157: 0.3, 158: 0.358974358974359, 159: 0.9393939393939394, 160: 0.5294117647058824, 161: 0.7727272727272727, 162: 0.8421052631578947, 163: 0.8421052631578947, 164: 0.9230769230769231, 165: 0.36363636363636365, 166: 0.8461538461538461, 167: 0.36065573770491804, 168: 0.125, 169: 0.625, 170: 0.75, 171: 0.4838709677419355, 172: 0.5, 173: 0.6666666666666666, 174: 0.9259259259259259, 175: 0.6, 176: 0.5384615384615384, 177: 0.425, 178: 0.8181818181818182, 179: 0.65, 180: 0.5, 181: 0.6875, 182: 0.5384615384615384, 183: 0.4166666666666667, 184: 0.6206896551724138, 185: 0.3333333333333333, 186: 0.5, 187: 0.21739130434782608, 188: 0.34782608695652173, 189: 0.5, 190: 0.26666666666666666, 191: 1.0, 192: 0.36585365853658536, 193: 0.6666666666666666, 194: 0.631578947368421, 195: 0.9166666666666666, 196: 0.6470588235294118, 197: 0.5, 198: 0.2222222222222222, 199: 0.30434782608695654}, 'global_top5': 0.6153333333333333, 'avg_entropy_per_class': {0: 3.165875871518725, 1: 2.871052782982588, 2: 3.012549733221531, 3: 3.1313339261710644, 4: 2.743187963962555, 5: 2.8893170074504964, 6: 2.8451875783993223, 7: 2.5040169629667486, 8: 3.1996782234311105, 9: 3.1651203071232885, 10: 3.038714054822922, 11: 3.611629313656262, 12: 3.248297744515267, 13: 3.1051002484948738, 14: 3.427905774226895, 15: 3.7257842670625716, 16: 3.245210427106643, 17: 3.4885636227471486, 18: 3.393499820463119, 19: 3.507395089897391, 20: 2.520392414803306, 21: 3.2131677596848838, 22: 2.8407767852958368, 23: 2.2906323899241054, 24: 3.147113903896096, 25: 1.7184290874462862, 26: 2.9299241779895313, 27: 3.4147607513836453, 28: 2.9349940687417986, 29: 3.8310536339685513, 30: 2.920229721652425, 31: 2.558972228031892, 32: 1.9154161532010352, 33: 3.64993642002679, 34: 3.5382245911492243, 35: 2.794264714199084, 36: 2.658252409218173, 37: 3.3890129200049808, 38: 3.3512120599809445, 39: 3.2393144164766583, 40: 3.8364574817510753, 41: 3.935713665485382, 42: 2.9675299134105444, 43: 3.0580003708601, 44: 3.2296781083758996, 45: 3.0437538960705632, 46: 2.3697485517590278, 47: 3.231029729571259, 48: 3.0391766005009413, 49: 2.2927420313159623, 50: 2.81471582253774, 51: 3.3607804600638573, 52: 3.335582852056346, 53: 3.7255677749281344, 54: 3.5503032582998277, 55: 3.770624794676656, 56: 3.693901240825653, 57: 3.3115656945109366, 58: 3.1564198777079584, 59: 3.1380612305365503, 60: 3.2175206064459787, 61: 3.818774319944843, 62: 3.5100701532246155, 63: 3.2220161009219384, 64: 3.5840383345882096, 65: 2.622581176851925, 66: 3.286948350071907, 67: 3.3656932219215063, 68: 2.064591521725935, 69: 3.356170055747498, 70: 3.8136540800333023, 71: 3.7298595224108015, 72: 1.86031613945961, 73: 2.660159191648875, 74: 3.0248458191405896, 75: 1.5055069234222174, 76: 3.273217535018921, 77: 3.1740214472467247, 78: 2.2345839902758597, 79: 2.3238270453044345, 80: 2.9023074870082466, 81: 2.9883916801021946, 82: 3.7025778219103813, 83: 3.9821112394332885, 84: 2.940202491283417, 85: 3.416662173611777, 86: 1.5936293896773588, 87: 3.169060836617763, 88: 3.7844599655696323, 89: 3.1669238182631405, 90: 3.8988610124588012, 91: 2.7271391572775663, 92: 3.4081442789597944, 93: 3.559835021836417, 94: 3.1631431659062703, 95: 2.700569713115692, 96: 3.445694165570395, 97: 2.3603102075202123, 98: 3.6228242636688295, 99: 3.0088172554969788, 100: 2.0811393831087197, 101: 2.8594159622277533, 102: 4.385026829583304, 103: 3.590134015450111, 104: 2.302934654057026, 105: 3.2903749346733093, 106: 3.5000439405441286, 107: 3.3785182551333777, 108: 3.7251565870311527, 109: 2.597916627302766, 110: 3.130205452442169, 111: 2.7775565890165477, 112: 3.0087445687789183, 113: 2.3155593077341714, 114: 2.9553192034363747, 115: 2.427747643806718, 116: 2.9357232514180636, 117: 2.7003011597054347, 118: 3.761290192604065, 119: 3.7272311051686606, 120: 2.6607751386861005, 121: 1.871129658730591, 122: 2.2334827143285008, 123: 3.9416461549699306, 124: 2.30081769824028, 125: 3.2971333917230368, 126: 3.9706390539805096, 127: 2.8558544453821684, 128: 3.347966919554041, 129: 3.6646726417445366, 130: 2.1031041483084363, 131: 3.83366858959198, 132: 3.1423149719834327, 133: 4.234857767820358, 134: 1.6970391348004341, 135: 2.837685710617474, 136: 2.9800181022057166, 137: 3.4579878059717326, 138: 3.1299766068873196, 139: 3.6701075306960513, 140: 3.257624712857333, 141: 2.9415706868469713, 142: 4.180525165337783, 143: 3.7561367402474084, 144: 3.5037758298542188, 145: 2.887476886019987, 146: 3.416944818837302, 147: 3.6591042487517647, 148: 3.906874750341688, 149: 2.213458518870175, 150: 3.3913550302386284, 151: 3.4360428076041374, 152: 3.39714259259841, 153: 2.8884283668465085, 154: 2.735497250006749, 155: 1.6814083023504778, 156: 4.053454518318176, 157: 2.975941349565983, 158: 3.668359588545102, 159: 1.3012998045393915, 160: 3.015657647567637, 161: 3.3650276703252033, 162: 2.498691790198025, 163: 2.797929575568751, 164: 3.0750059565672507, 165: 3.2465066638859836, 166: 2.741924054347552, 167: 3.425243027874681, 168: 3.9198170080780983, 169: 3.500981245189905, 170: 2.5408822298049927, 171: 3.7717412402552943, 172: 3.2578757464885713, 173: 2.751696354813046, 174: 1.8310807108603142, 175: 3.431136691570282, 176: 3.409234893627656, 177: 3.5460294753313066, 178: 3.003170056776567, 179: 3.159887540663476, 180: 3.907619559764862, 181: 3.408620584756136, 182: 4.2515880694756145, 183: 3.8985493779182434, 184: 3.381844795983413, 185: 3.3702644464515505, 186: 3.399266377395513, 187: 3.6192016394241997, 188: 3.829109725744828, 189: 2.9925848642985025, 190: 3.836370658874512, 191: 2.7825764179229737, 192: 3.729898263768452, 193: 3.6384252508481345, 194: 3.618094521133523, 195: 1.6938005859653156, 196: 3.2588430857354336, 197: 2.2837355360388756, 198: 3.743971665700277, 199: 3.348248997460241}, 'avg_correct_entropy_per_class': {0: 2.8645049799233675, 1: 1.90271703335079, 2: 1.9151893219886682, 3: 2.2877360592511566, 4: 2.301441835165024, 5: 1.786752715174641, 6: 2.1526397934981754, 7: 1.8448713529109955, 8: 2.8921745136762276, 9: 2.6134321216655816, 10: 2.3576054610311985, 11: 3.226782581635884, 12: 3.944416046142578, 13: 1.919972661435604, 14: 2.481916818519433, 15: 2.5805178472870276, 16: 2.960838418006897, 17: 2.5009805957476297, 18: 2.5506349325180055, 19: 2.2579337799030803, 20: 1.705921563140133, 21: 2.926347380334681, 22: 2.800593350082636, 23: 1.6755995830974064, 24: 2.4374904216722, 25: 1.6323060738412958, 26: 2.4843707705537477, 27: 3.0086811585672972, 28: 3.2575082778930664, 29: 3.345338539643721, 30: 2.5389356521459727, 31: 2.939643144607544, 32: 1.4239486341675123, 33: 2.2414827060240965, 34: 2.5501004457473755, 35: 2.3770947232842445, 36: 1.9999427156788963, 37: 2.7018840859333673, 38: 3.0849546909332277, 39: 2.6546701843088325, 40: 0, 41: 1.892629325389862, 42: 2.0724802484306006, 43: 2.19100890240886, 44: 2.8351871271928153, 45: 2.257244635712017, 46: 1.8083890870213508, 47: 2.077582957652899, 48: 2.471690201573074, 49: 3.6187148888905845, 50: 0, 51: 3.1736948956613955, 52: 2.5724522645274797, 53: 3.4931809425354006, 54: 3.0852568825085958, 55: 3.4046687659095314, 56: 3.3417214647583338, 57: 2.829192743581884, 58: 2.5329076329867046, 59: 2.550175832495803, 60: 1.8637190516348239, 61: 3.1912675903123966, 62: 2.4869780465960503, 63: 2.7528715919364584, 64: 2.323118593205105, 65: 2.7457268238067627, 66: 2.6116358174218073, 67: 2.898780584335327, 68: 1.770295118743723, 69: 2.7525258273082343, 70: 2.798779535293579, 71: 0, 72: 2.394188404083252, 73: 1.7344078615307807, 74: 3.1305449225685815, 75: 1.079867423325777, 76: 3.498950481414795, 77: 2.7454482780562506, 78: 1.7008937350474298, 79: 1.7287381490071614, 80: 2.5225573647767305, 81: 2.5073722390567554, 82: 3.5691278245713978, 83: 3.7461713552474976, 84: 1.8665240705013275, 85: 2.9314291018706102, 86: 0.8722757078481443, 87: 2.1894238425625696, 88: 2.407660722732544, 89: 3.0609732610838756, 90: 3.493648719787598, 91: 3.006510877609253, 92: 2.913750926653544, 93: 1.7712318897247314, 94: 2.3510890234084356, 95: 2.6473004102706907, 96: 3.662351982934134, 97: 1.7115500457584858, 98: 3.482308566570282, 99: 2.8270214398701987, 100: 1.4617397884527843, 101: 0.9000124111771584, 102: 3.411435047785441, 103: 2.2791635990142822, 104: 1.2939739401141803, 105: 0.5178332924842834, 106: 0, 107: 3.0433206111192703, 108: 3.5742462414961595, 109: 0.43487784266471863, 110: 3.2051918307940164, 111: 2.0879851579666138, 112: 3.1673290550708773, 113: 2.347911278406779, 114: 2.173787003213709, 115: 1.1296595228569848, 116: 2.5952023044228554, 117: 1.8790199905633926, 118: 3.3679563999176025, 119: 3.147682309150696, 120: 2.2146757963825676, 121: 1.1123595936940267, 122: 1.6308909509744909, 123: 3.9921680092811584, 124: 1.177521862089634, 125: 2.84804986582862, 126: 3.421450138092041, 127: 1.715483844280243, 128: 2.9525016454549937, 129: 3.715644747018814, 130: 1.867374444549734, 131: 0, 132: 2.9524658024311066, 133: 3.652470111846924, 134: 1.8458274205525715, 135: 2.379850763082504, 136: 2.8360996544361115, 137: 1.8285950243473053, 138: 1.3250100493431092, 139: 3.2464990516503653, 140: 0, 141: 2.171861511965593, 142: 4.452974319458008, 143: 0.457599937915802, 144: 2.9915258458682468, 145: 0.9564693570137024, 146: 3.5238728523254395, 147: 3.239571558104621, 148: 2.5447161197662354, 149: 1.629322744323872, 150: 2.8879410475492477, 151: 2.5423507764935493, 152: 2.621640682220459, 153: 3.345435583591461, 154: 1.803479274113973, 155: 1.7045572400093079, 156: 0, 157: 3.3086702028910318, 158: 3.022354058921337, 159: 1.132373671816743, 160: 2.106669302497591, 161: 2.8633432472124696, 162: 1.8504323810338974, 163: 2.50057681117739, 164: 2.5506131259294658, 165: 1.2445669770240784, 166: 2.120420673063823, 167: 3.1058209612965584, 168: 5.289668560028076, 169: 2.9890035797249186, 170: 0, 171: 3.569684902826945, 172: 1.7482260465621948, 173: 1.8440758188565571, 174: 1.288945577869361, 175: 2.6261985500653586, 176: 2.2327595750490823, 177: 2.9522944797169077, 178: 2.079529285430908, 179: 2.1506227129591733, 180: 2.9163865447044373, 181: 2.0210317969322205, 182: 3.7445285320281982, 183: 3.545016646385193, 184: 2.4852607548236847, 185: 2.224024474620819, 186: 2.9604071149459252, 187: 2.8234740495681763, 188: 1.3019790351390839, 189: 0, 190: 3.0807599067687987, 191: 2.524849783290516, 192: 3.60240646203359, 193: 4.205552339553833, 194: 3.3724567549569264, 195: 1.2794991003142462, 196: 1.9863406232131335, 197: 0, 198: 1.5294246673583984, 199: 3.295188307762146}, 'global_avg_correct_entropy': 2.3932727338590882, 'avg_incorrect_entropy_per_class': {0: 3.3049701291781206, 1: 3.439757905782215, 2: 3.714140815813033, 3: 3.7941608216081346, 4: 3.0680012939607395, 5: 3.4309275369895134, 6: 3.0015693362802267, 7: 3.0355860033342914, 8: 3.3962789558973467, 9: 3.474603923355661, 10: 3.168449025068964, 11: 3.7078409966613566, 12: 3.206362907067839, 13: 3.778468195687641, 14: 3.9843698658195197, 15: 4.179118891557057, 16: 3.3425981014558714, 17: 3.883596833546956, 18: 3.4674353369495323, 19: 4.082147292494774, 20: 3.710772890311021, 21: 3.296194711602048, 22: 2.8486174555813393, 23: 3.024703804523714, 24: 3.7121844545558647, 25: 1.9521915529455458, 26: 3.0944362053504357, 27: 3.5854318845963133, 28: 2.9144080553917173, 29: 3.9120061496893563, 30: 2.9829743153686765, 31: 2.543745391368866, 32: 2.2840167924761774, 33: 3.8908561342640926, 34: 3.8205457755497525, 35: 2.9699152366895425, 36: 3.042266397116085, 37: 3.6638644536336265, 38: 3.4463039774979864, 39: 3.5072763562202454, 40: 3.8364574817510753, 41: 4.214316075498408, 42: 3.521608277445748, 43: 3.4248044536663937, 44: 3.318438579142094, 45: 3.290942520754678, 46: 2.8960230499505997, 47: 3.5718208212744105, 48: 3.417500866452853, 49: 2.1033173373767307, 50: 2.81471582253774, 51: 3.417398459817234, 52: 3.785955002073382, 53: 3.7437229962088168, 54: 3.6323702657923977, 55: 3.912016896700317, 56: 3.882276469884917, 57: 3.4103649736168875, 58: 3.5305272245407107, 59: 3.347308575601901, 60: 3.8702463560870717, 61: 4.0558324178059895, 62: 3.7619082102408776, 63: 3.4800455808639525, 64: 4.314044500652113, 65: 2.613287165760994, 66: 3.666811649687588, 67: 3.410161092167809, 68: 2.6041349271933236, 69: 4.23841931269719, 70: 4.0807263286490185, 71: 3.7298595224108015, 72: 1.800996998945872, 73: 3.728333803323599, 74: 2.9885117523372173, 75: 3.633704423904419, 76: 3.1227289040883384, 77: 3.470725948993976, 78: 3.183366666237513, 79: 2.7701437175273895, 80: 3.3580076336860656, 81: 3.5724867156573703, 82: 3.7547973860865054, 83: 4.041096210479736, 84: 3.655988105138143, 85: 3.634180447150921, 86: 3.4247579666284413, 87: 3.6876921864116894, 88: 4.0139265060424805, 89: 3.216367411613464, 90: 4.0001640856266025, 91: 2.6636455844749105, 92: 4.001416301727295, 93: 3.6682352116613677, 94: 3.6004030887897196, 95: 2.7538390159606934, 96: 3.229036348206656, 97: 3.225323756535848, 98: 3.637879516929388, 99: 3.0583979324861006, 100: 2.756848031824285, 101: 3.1859832207361856, 102: 5.115220665931702, 103: 3.828492272983898, 104: 3.05965518951416, 105: 3.488413623401097, 106: 3.5000439405441286, 107: 3.6222983598709106, 108: 3.810453738855279, 109: 2.906922167965344, 110: 3.0702163497606914, 111: 2.9029332128438083, 112: 2.792492996562611, 113: 2.2508553663889566, 114: 3.461016509462805, 115: 4.69940185546875, 116: 3.1833748492327603, 117: 3.316262036561966, 118: 3.9298618180411204, 119: 4.88632869720459, 120: 3.744159255708967, 121: 2.3408444608960832, 122: 3.438666241036521, 123: 3.9382780313491823, 124: 3.798545479774475, 125: 3.472861727942591, 126: 4.107936282952626, 127: 3.2631296600614275, 128: 3.4991742302389706, 129: 3.646943213823049, 130: 2.751360833644867, 131: 3.83366858959198, 132: 3.2688810850183168, 133: 4.584290361404419, 134: 1.6474430395497217, 135: 3.092038459248013, 136: 3.0439818567699857, 137: 4.4763582944869995, 138: 3.6313562062051563, 139: 3.987813889980316, 140: 3.257624712857333, 141: 3.1846367420726702, 142: 4.1578210691610975, 143: 4.056003722277555, 144: 3.7278851978480816, 145: 3.9407537200234155, 146: 3.4087195854920607, 147: 3.7611527410713403, 148: 4.011656183462876, 149: 2.881042261208807, 150: 3.894769012928009, 151: 4.086000648411837, 152: 3.445611461997032, 153: 2.3171693459153175, 154: 3.0151026427745817, 155: 1.6681803379740034, 156: 4.053454518318176, 157: 2.9172244930968567, 158: 3.809673298150301, 159: 1.689829909801483, 160: 3.6519494891166686, 161: 3.65170448353248, 162: 3.08212525844574, 163: 2.9713853547970452, 164: 3.5993987872050357, 165: 3.997234046459198, 166: 3.467011332511902, 167: 3.4734576794336425, 168: 3.828493571281433, 169: 3.934193115967971, 170: 2.5408822298049927, 171: 3.820234761238098, 172: 3.7610923131306966, 173: 3.6593168907695346, 174: 4.216475296020508, 175: 3.6323712269465127, 176: 3.623139497005578, 177: 3.7712393012540093, 178: 3.7728706995646157, 179: 3.985649672421542, 180: 4.155427813529968, 181: 4.487856308619182, 182: 4.293843030929565, 183: 3.9692559242248535, 184: 3.5252982425689696, 185: 3.52516173994219, 186: 3.5577433332800865, 187: 3.6949852194104875, 188: 4.069788839135851, 189: 2.9925848642985025, 190: 3.9308220028877257, 191: 3.4913246631622314, 192: 3.765755333006382, 193: 3.4493828879462347, 194: 3.7613832180698714, 195: 2.9367050429185233, 196: 3.9529353380203247, 197: 2.2837355360388756, 198: 4.0207900404930115, 199: 3.353302396479107}, 'global_avg_incorrect_entropy': 3.4908715056174384}\n"
     ]
    }
   ],
   "source": [
    "print(result_insights)"
   ]
  },
  {
   "cell_type": "markdown",
   "metadata": {},
   "source": [
    "Now, to visualize this results we will define some other functions:"
   ]
  },
  {
   "cell_type": "code",
   "execution_count": 72,
   "metadata": {},
   "outputs": [
    {
     "name": "stdout",
     "output_type": "stream",
     "text": [
      "Collecting seaborn\n",
      "  Downloading seaborn-0.13.2-py3-none-any.whl.metadata (5.4 kB)\n",
      "Requirement already satisfied: numpy!=1.24.0,>=1.20 in /opt/conda/lib/python3.10/site-packages (from seaborn) (1.26.4)\n",
      "Requirement already satisfied: pandas>=1.2 in /opt/conda/lib/python3.10/site-packages (from seaborn) (2.1.4)\n",
      "Requirement already satisfied: matplotlib!=3.6.1,>=3.4 in /opt/conda/lib/python3.10/site-packages (from seaborn) (3.8.4)\n",
      "Requirement already satisfied: contourpy>=1.0.1 in /opt/conda/lib/python3.10/site-packages (from matplotlib!=3.6.1,>=3.4->seaborn) (1.2.1)\n",
      "Requirement already satisfied: cycler>=0.10 in /opt/conda/lib/python3.10/site-packages (from matplotlib!=3.6.1,>=3.4->seaborn) (0.12.1)\n",
      "Requirement already satisfied: fonttools>=4.22.0 in /opt/conda/lib/python3.10/site-packages (from matplotlib!=3.6.1,>=3.4->seaborn) (4.51.0)\n",
      "Requirement already satisfied: kiwisolver>=1.3.1 in /opt/conda/lib/python3.10/site-packages (from matplotlib!=3.6.1,>=3.4->seaborn) (1.4.5)\n",
      "Requirement already satisfied: packaging>=20.0 in /opt/conda/lib/python3.10/site-packages (from matplotlib!=3.6.1,>=3.4->seaborn) (23.2)\n",
      "Requirement already satisfied: pillow>=8 in /opt/conda/lib/python3.10/site-packages (from matplotlib!=3.6.1,>=3.4->seaborn) (9.5.0)\n",
      "Requirement already satisfied: pyparsing>=2.3.1 in /opt/conda/lib/python3.10/site-packages (from matplotlib!=3.6.1,>=3.4->seaborn) (3.1.2)\n",
      "Requirement already satisfied: python-dateutil>=2.7 in /opt/conda/lib/python3.10/site-packages (from matplotlib!=3.6.1,>=3.4->seaborn) (2.9.0)\n",
      "Requirement already satisfied: pytz>=2020.1 in /opt/conda/lib/python3.10/site-packages (from pandas>=1.2->seaborn) (2023.3)\n",
      "Requirement already satisfied: tzdata>=2022.1 in /opt/conda/lib/python3.10/site-packages (from pandas>=1.2->seaborn) (2024.1)\n",
      "Requirement already satisfied: six>=1.5 in /opt/conda/lib/python3.10/site-packages (from python-dateutil>=2.7->matplotlib!=3.6.1,>=3.4->seaborn) (1.16.0)\n",
      "Downloading seaborn-0.13.2-py3-none-any.whl (294 kB)\n",
      "\u001b[2K   \u001b[90m━━━━━━━━━━━━━━━━━━━━━━━━━━━━━━━━━━━━━━━━\u001b[0m \u001b[32m294.9/294.9 kB\u001b[0m \u001b[31m25.4 MB/s\u001b[0m eta \u001b[36m0:00:00\u001b[0m\n",
      "\u001b[?25hInstalling collected packages: seaborn\n",
      "Successfully installed seaborn-0.13.2\n"
     ]
    }
   ],
   "source": [
    "!pip install seaborn"
   ]
  },
  {
   "cell_type": "code",
   "execution_count": 74,
   "metadata": {},
   "outputs": [],
   "source": [
    "import matplotlib.pyplot as plt\n",
    "import pandas as pd\n",
    "import seaborn as sns\n",
    "from ipywidgets import widgets, interactive_output\n",
    "from IPython.display import display  # Corrected import"
   ]
  },
  {
   "cell_type": "code",
   "execution_count": 94,
   "metadata": {},
   "outputs": [],
   "source": [
    "def plot_class_insights(result_insights):\n",
    "    # Create a DataFrame with the insights\n",
    "    df = pd.DataFrame({\n",
    "        'Accuracy': result_insights['accuracy_per_class'],\n",
    "        'Top-5 Accuracy': result_insights['top5_per_class'],\n",
    "        'Average Entropy': result_insights['avg_entropy_per_class'],\n",
    "        'Average Correct Entropy': result_insights['avg_correct_entropy_per_class'],\n",
    "        'Average Incorrect Entropy': result_insights['avg_incorrect_entropy_per_class']\n",
    "    })\n",
    "\n",
    "    # Create a dropdown menu for selecting the metric\n",
    "    dropdown_metric = widgets.Dropdown(\n",
    "        options=list(df.columns),\n",
    "        value='Accuracy',\n",
    "        description='Metric:',\n",
    "        disabled=False,\n",
    "    )\n",
    "\n",
    "    # Create another dropdown for selecting the number of extremes\n",
    "    dropdown_extremes = widgets.Dropdown(\n",
    "        options=[('All Classes', None), ('Top & Bottom 5', 5), ('Top & Bottom 10', 10), ('Top & Bottom 15', 15)],\n",
    "        value=None,\n",
    "        description='Extremes:',\n",
    "        disabled=False,\n",
    "    )\n",
    "\n",
    "    def update_plot(metric, extremes):\n",
    "        plt.figure(figsize=(20, 10))  # Adjust figure size to better fit the heatmap\n",
    "        data = df[[metric]].sort_values(by=metric)\n",
    "        \n",
    "        # Decide whether to show annotations based on whether extremes are selected\n",
    "        annotate = False if extremes is None else True\n",
    "        \n",
    "        # If extremes is set, filter data to show only the specified top & bottom N values\n",
    "        if extremes:\n",
    "            top_data = data.nlargest(extremes, metric)\n",
    "            bottom_data = data.nsmallest(extremes, metric)\n",
    "            data = pd.concat([top_data, bottom_data]).sort_values(by=metric, ascending=False)\n",
    "\n",
    "        sns.heatmap(data, annot=annotate, fmt=\".2f\", cmap='coolwarm', cbar=True)\n",
    "        plt.title(f'{metric} per Class with {extremes if extremes else \"All\"} Extremes')\n",
    "        plt.ylabel('Class Index')\n",
    "        plt.xlabel('Metric Value')\n",
    "        plt.xticks(rotation=0)  # Ensure metric names are readable\n",
    "        plt.show()\n",
    "\n",
    "    # Display the dropdowns and connect the interactive output\n",
    "    display(dropdown_metric, dropdown_extremes)\n",
    "    out = widgets.interactive_output(update_plot, {'metric': dropdown_metric, 'extremes': dropdown_extremes})\n",
    "    display(out)\n",
    "\n",
    "# Example usage:\n",
    "# plot_class_insights(result_insights)"
   ]
  },
  {
   "cell_type": "code",
   "execution_count": 76,
   "metadata": {},
   "outputs": [],
   "source": [
    "def display_global_insights(result_insights):\n",
    "    # Display global insights\n",
    "    print(\"Global Insights:\")\n",
    "    print(f\"Global Top-5 Accuracy: {result_insights['global_top5']:.2%}\")\n",
    "    print(f\"Global Average Correct Entropy: {result_insights['global_avg_correct_entropy']}\")\n",
    "    print(f\"Global Average Incorrect Entropy: {result_insights['global_avg_incorrect_entropy']}\")\n",
    "    \n",
    "    # Display the extremes (highest and lowest values)\n",
    "    df = pd.DataFrame({\n",
    "        'Accuracy': result_insights['accuracy_per_class'],\n",
    "        'Top-5 Accuracy': result_insights['top5_per_class']\n",
    "    })\n",
    "    print(\"\\nHighest 5 Accuracies:\")\n",
    "    print(df['Accuracy'].nlargest(5))\n",
    "    print(\"\\nLowest 5 Accuracies:\")\n",
    "    print(df['Accuracy'].nsmallest(5))\n",
    "\n",
    "# Example usage:\n",
    "# display_global_insights(result_insights)\n"
   ]
  },
  {
   "cell_type": "code",
   "execution_count": 77,
   "metadata": {},
   "outputs": [],
   "source": [
    "# Load .json file and compute the insights\n",
    "results_list= deserialize_results('CLIP_Base_results.json')\n",
    "result_insights = analyze_results(results_list)"
   ]
  },
  {
   "cell_type": "code",
   "execution_count": 95,
   "metadata": {},
   "outputs": [
    {
     "data": {
      "application/vnd.jupyter.widget-view+json": {
       "model_id": "ec8036d766f14c4a95b799b015b9abd2",
       "version_major": 2,
       "version_minor": 0
      },
      "text/plain": [
       "Dropdown(description='Metric:', options=('Accuracy', 'Top-5 Accuracy', 'Average Entropy', 'Average Correct Ent…"
      ]
     },
     "metadata": {},
     "output_type": "display_data"
    },
    {
     "data": {
      "application/vnd.jupyter.widget-view+json": {
       "model_id": "f547a26f98db4a7d92c86922e7c09075",
       "version_major": 2,
       "version_minor": 0
      },
      "text/plain": [
       "Dropdown(description='Extremes:', options=(('All Classes', None), ('Top & Bottom 5', 5), ('Top & Bottom 10', 1…"
      ]
     },
     "metadata": {},
     "output_type": "display_data"
    },
    {
     "data": {
      "application/vnd.jupyter.widget-view+json": {
       "model_id": "bf8bbb9a1a5f45849de617b93d8b6630",
       "version_major": 2,
       "version_minor": 0
      },
      "text/plain": [
       "Output()"
      ]
     },
     "metadata": {},
     "output_type": "display_data"
    }
   ],
   "source": [
    "# Display per class insights\n",
    "plot_class_insights(result_insights)"
   ]
  },
  {
   "cell_type": "code",
   "execution_count": 83,
   "metadata": {},
   "outputs": [
    {
     "name": "stdout",
     "output_type": "stream",
     "text": [
      "Global Insights:\n",
      "Global Top-5 Accuracy: 61.53%\n",
      "Global Average Correct Entropy: 2.3932727338590882\n",
      "Global Average Incorrect Entropy: 3.4908715056174384\n",
      "\n",
      "Highest 5 Accuracies:\n",
      "75     0.833333\n",
      "174    0.814815\n",
      "195    0.750000\n",
      "130    0.733333\n",
      "191    0.733333\n",
      "Name: Accuracy, dtype: float64\n",
      "\n",
      "Lowest 5 Accuracies:\n",
      "40     0.0\n",
      "50     0.0\n",
      "71     0.0\n",
      "106    0.0\n",
      "131    0.0\n",
      "Name: Accuracy, dtype: float64\n"
     ]
    }
   ],
   "source": [
    "# Display global insights\n",
    "display_global_insights(result_insights)"
   ]
  },
  {
   "cell_type": "markdown",
   "metadata": {},
   "source": [
    "Finally we integrate all the summary display functionality into a single function:"
   ]
  },
  {
   "cell_type": "code",
   "execution_count": null,
   "metadata": {},
   "outputs": [],
   "source": [
    "import pandas as pd\n",
    "import matplotlib.pyplot as plt\n",
    "from IPython.display import display, Markdown\n",
    "\n",
    "def print_summary(result_insights):\n",
    "    \"\"\"Prints a comprehensive summary of all results, including histograms and numeric summaries.\"\"\"\n",
    "\n",
    "    for key, values in result_insights.items():\n",
    "        # Check if the value is a list and plot histogram\n",
    "        if isinstance(values, list):\n",
    "            plot_histogram(values, f\"Histogram of {key}\", key)\n",
    "            series = pd.Series(values)\n",
    "            display(Markdown(f\"**Top 5 values for {key}:**\"))\n",
    "            display(series.nlargest(5).to_frame(name=key))\n",
    "            display(Markdown(f\"**Bottom 5 values for {key}:**\"))\n",
    "            display(series.nsmallest(5).to_frame(name=key))\n",
    "        else:\n",
    "            # Display non-list items neatly\n",
    "            display(Markdown(f\"**{key}:** {values:.4f}\"))\n",
    "\n",
    "def plot_histogram(data, title, xlabel):\n",
    "    \"\"\"Plot a histogram for the given data.\"\"\"\n",
    "    plt.figure(figsize=(10, 6))\n",
    "    plt.hist(data, bins=20, color='skyblue', edgecolor='black')\n",
    "    plt.title(title)\n",
    "    plt.xlabel(xlabel)\n",
    "    plt.ylabel('Frequency')\n",
    "    plt.grid(True)\n",
    "    plt.show()"
   ]
  },
  {
   "cell_type": "markdown",
   "metadata": {},
   "source": [
    "## CLIP Base"
   ]
  },
  {
   "cell_type": "code",
   "execution_count": null,
   "metadata": {},
   "outputs": [],
   "source": []
  }
 ],
 "metadata": {
  "accelerator": "GPU",
  "colab": {
   "gpuType": "T4",
   "include_colab_link": true,
   "provenance": []
  },
  "kernelspec": {
   "display_name": "Python 3 (ipykernel)",
   "language": "python",
   "name": "python3"
  },
  "language_info": {
   "codemirror_mode": {
    "name": "ipython",
    "version": 3
   },
   "file_extension": ".py",
   "mimetype": "text/x-python",
   "name": "python",
   "nbconvert_exporter": "python",
   "pygments_lexer": "ipython3",
   "version": "3.10.14"
  }
 },
 "nbformat": 4,
 "nbformat_minor": 4
}
